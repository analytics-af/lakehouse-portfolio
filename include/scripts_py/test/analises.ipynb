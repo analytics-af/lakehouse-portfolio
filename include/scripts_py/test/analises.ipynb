{
 "cells": [
  {
   "cell_type": "code",
   "execution_count": 13,
   "metadata": {},
   "outputs": [],
   "source": [
    "import duckdb\n",
    "con = duckdb.connect()"
   ]
  },
  {
   "cell_type": "code",
   "execution_count": 4,
   "metadata": {},
   "outputs": [],
   "source": [
    "con.sql(\"SET memory_limit = '16GB';\") "
   ]
  },
  {
   "cell_type": "code",
   "execution_count": null,
   "metadata": {},
   "outputs": [],
   "source": [
    "con.execute(f\"\"\"\n",
    "    CREATE SECRET my_minio (\n",
    "        TYPE 'S3',\n",
    "        KEY_ID 'minio',\n",
    "        SECRET 'minio123',\n",
    "        REGION 'us-east-1',\n",
    "        ENDPOINT 'localhost:9000',\n",
    "        URL_STYLE 'path',\n",
    "        USE_SSL false\n",
    "    );\n",
    "\"\"\")"
   ]
  },
  {
   "cell_type": "code",
   "execution_count": 15,
   "metadata": {},
   "outputs": [],
   "source": [
    "storage_options = {\n",
    "        'AWS_ACCESS_KEY_ID': 'minio',\n",
    "        'AWS_SECRET_ACCESS_KEY': 'minio123',\n",
    "        \"AWS_ENDPOINT_URL\": \"http://localhost:9000\",\n",
    "        \"AWS_allow_http\": \"true\",\n",
    "        'AWS_REGION': 'us-east-1',\n",
    "        'AWS_S3_ALLOW_UNSAFE_RENAME': 'true'\n",
    "}"
   ]
  },
  {
   "cell_type": "code",
   "execution_count": null,
   "metadata": {},
   "outputs": [],
   "source": [
    "con.pl.read_delta('s3://landing/performance/core_emissions')"
   ]
  },
  {
   "cell_type": "code",
   "execution_count": null,
   "metadata": {},
   "outputs": [],
   "source": [
    "con.sql(\"SELECT current_setting('memory_limit');\")"
   ]
  },
  {
   "cell_type": "code",
   "execution_count": 23,
   "metadata": {},
   "outputs": [],
   "source": [
    "path_minio_gold = 's3://gold/comex'\n",
    "path_minio_silver = 's3://silver/comex'\n",
    "path_minio_bronze = 's3://bronze/comex'"
   ]
  },
  {
   "cell_type": "code",
   "execution_count": null,
   "metadata": {},
   "outputs": [],
   "source": [
    "con.sql(f\"\"\"SELECT count(*) FROM 'c:\\\\4.duckdb_python_case1\\\\core_epacems__hourly_emissions.parquet'  \n",
    "            WHERE year between 2008 and 2014\n",
    "        \"\"\")"
   ]
  },
  {
   "cell_type": "code",
   "execution_count": 5,
   "metadata": {},
   "outputs": [],
   "source": [
    "con.sql(f\"\"\"SELECT * FROM 'c:\\\\4.duckdb_python_case1\\\\core_emissions.parquet'  \n",
    "        WHERE COUNT(*) <= 100000000\n",
    "        \n",
    "        \"\"\").pl().write_delta('s3://landing/performance/core_emissions', \n",
    "            mode=\"append\",\n",
    "            storage_options=storage_options,\n",
    "            )"
   ]
  },
  {
   "cell_type": "code",
   "execution_count": 10,
   "metadata": {},
   "outputs": [],
   "source": [
    "con.sql(f\"\"\"SELECT * FROM 'c:\\\\4.duckdb_python_case1\\\\core_epacems__hourly_emissions.parquet'\n",
    "            WHERE year between 2008 and 2014\n",
    "        \"\"\").pl().write_delta('s3://landing/performance/core_epacems_hourly_emissions_2008_2014', \n",
    "                                mode=\"append\",\n",
    "                                storage_options=storage_options,\n",
    "                                )"
   ]
  },
  {
   "cell_type": "code",
   "execution_count": 12,
   "metadata": {},
   "outputs": [],
   "source": [
    "con.close()"
   ]
  }
 ],
 "metadata": {
  "kernelspec": {
   "display_name": "Python 3",
   "language": "python",
   "name": "python3"
  },
  "language_info": {
   "codemirror_mode": {
    "name": "ipython",
    "version": 3
   },
   "file_extension": ".py",
   "mimetype": "text/x-python",
   "name": "python",
   "nbconvert_exporter": "python",
   "pygments_lexer": "ipython3",
   "version": "3.12.2"
  }
 },
 "nbformat": 4,
 "nbformat_minor": 2
}
