{
 "cells": [
  {
   "cell_type": "code",
   "execution_count": 29,
   "metadata": {},
   "outputs": [],
   "source": [
    "import duckdb  # Importa o DuckDB para manipulação de dados e execução de SQL\n",
    "import os  # Importa o módulo os para interagir com variáveis de ambiente do sistema\n",
    "from dotenv import load_dotenv, find_dotenv  # Importa funções para carregar variáveis de ambiente de um arquivo .env\n",
    "from deltalake import DeltaTable, write_deltalake\n",
    "\n",
    "# Define as credenciais de acesso ao MinIO a partir das variáveis de ambiente\n",
    "AWS_ACCESS_KEY = os.getenv(\"AWS_ACCESS_KEY_MINIO\")  # Chave de acesso do MinIO\n",
    "AWS_SECRET_KEY = os.getenv(\"AWS_SECRET_KEY_MINIO\")  # Chave secreta do MinIO\n",
    "HOST_MINIO = os.getenv(\"HOST_MINIO\")  # Host do MinIO\n",
    "\n",
    "# Carrega as variáveis de ambiente definidas no arquivo .env\n",
    "load_dotenv(find_dotenv())\n",
    "\n",
    "# Conecta ao DuckDB, criando uma instância de conexão\n",
    "con = duckdb.connect()\n",
    "\n",
    "# Cria uma secret no DuckDB para acessar o MinIO com as credenciais fornecidas\n",
    "con.execute(f\"\"\"\n",
    "    CREATE SECRET my_minio_secret (\n",
    "        TYPE 'S3',\n",
    "        KEY_ID '{AWS_ACCESS_KEY}',\n",
    "        SECRET '{AWS_SECRET_KEY}',\n",
    "        REGION 'us-east-1',\n",
    "        ENDPOINT '{HOST_MINIO}:9000',\n",
    "        URL_STYLE 'path',\n",
    "        USE_SSL false\n",
    "    );\n",
    "\"\"\")\n",
    "\n",
    "# Define o caminho de destino no MinIO para os arquivos Parquet\n",
    "path_minio_gold = 's3://gold/comex'\n",
    "path_minio_silver = 's3://silver/comex'"
   ]
  },
  {
   "cell_type": "code",
   "execution_count": 30,
   "metadata": {},
   "outputs": [],
   "source": [
    "storage_options = {\n",
    "    \"AWS_ENDPOINT_URL\": f\"http://{HOST_MINIO}:9000\",\n",
    "    \"AWS_REGION\": \"us-east-1\",\n",
    "    \"AWS_ACCESS_KEY_ID\": AWS_ACCESS_KEY,\n",
    "    \"AWS_SECRET_ACCESS_KEY\": AWS_SECRET_KEY,\n",
    "    \"AWS_S3_ALLOW_UNSAFE_RENAME\": \"true\",\n",
    "    \"AWS_ALLOW_HTTP\": \"true\"\n",
    "}"
   ]
  },
  {
   "cell_type": "code",
   "execution_count": null,
   "metadata": {},
   "outputs": [],
   "source": [
    "con.sql(f\"\"\"\n",
    "        \n",
    "        SELECT \n",
    "          *\n",
    "        FROM delta_scan('{path_minio_silver}/importacoes') as im\n",
    "        \n",
    "\"\"\")"
   ]
  },
  {
   "cell_type": "code",
   "execution_count": 31,
   "metadata": {},
   "outputs": [],
   "source": [
    "fat_importacoes = con.sql(f\"\"\"\n",
    "        \n",
    "        SELECT \n",
    "            dt.cod_date,\n",
    "            im.ano,\n",
    "            im.mes,\n",
    "            sh.cod_ncm,\n",
    "            fa.cod_fator_agregado ,\n",
    "            uf.cod_estado,\n",
    "            p.cod_pais,\n",
    "            im.qtd,\n",
    "            im.kg_liquido,\n",
    "            im.valor_fob\n",
    "        FROM delta_scan('{path_minio_silver}/importacoes') as im\n",
    "        LEFT JOIN delta_scan('{path_minio_gold}/dim_ncm_sh') as sh ON im.cod_ncm = sh.cod_ncm\n",
    "        LEFT JOIN delta_scan('{path_minio_gold}/dim_fator_agregado') as fa ON im.cod_fator_agregado = fa.cod_fator_agregado\n",
    "        LEFT JOIN delta_scan('{path_minio_gold}/dim_pais') as p ON im.cod_pais = p.cod_pais\n",
    "        LEFT JOIN delta_scan('{path_minio_gold}/dim_uf') as uf ON im.cod_estado = uf.cod_estado\n",
    "        LEFT JOIN delta_scan('{path_minio_gold}/dim_tempo') dt ON dt.cod_date = (im.ano || im.mes || '1')\n",
    "        \n",
    "\"\"\").to_arrow_table()\n"
   ]
  },
  {
   "cell_type": "code",
   "execution_count": null,
   "metadata": {},
   "outputs": [],
   "source": [
    "write_deltalake(\n",
    "        f'{path_minio_gold}/fat_importacoes',\n",
    "        fat_importacoes,\n",
    "        mode='append',\n",
    "        storage_options=storage_options,\n",
    "        partition_by=[\"ano\",\"mes\"],\n",
    "                max_rows_per_file=100000,        # Máximo de 300.000 linhas por arquivo\n",
    "                max_rows_per_group=100000,       # Máximo de 100.000 linhas por grupo\n",
    "                min_rows_per_group=10000 \n",
    ")"
   ]
  },
  {
   "cell_type": "code",
   "execution_count": null,
   "metadata": {},
   "outputs": [],
   "source": [
    "con.sql(f\"SELECT MAX(cod_date) FROM delta_scan('{path_minio_gold}/fat_importacoes')\")"
   ]
  },
  {
   "cell_type": "markdown",
   "metadata": {},
   "source": [
    "#### Carga incremental"
   ]
  },
  {
   "cell_type": "code",
   "execution_count": 25,
   "metadata": {},
   "outputs": [],
   "source": [
    "fat_importacoes = con.sql(f\"\"\"\n",
    "        \n",
    "        SELECT \n",
    "            dt.cod_date,\n",
    "            im.ano,\n",
    "            im.mes,\n",
    "            sh.cod_ncm,\n",
    "            fa.cod_fator_agregado ,\n",
    "            uf.cod_estado,\n",
    "            p.cod_pais,\n",
    "            im.qtd,\n",
    "            im.kg_liquido,\n",
    "            im.valor_fob\n",
    "        FROM delta_scan('{path_minio_silver}/importacoes') as im\n",
    "        LEFT JOIN delta_scan('{path_minio_gold}/dim_ncm_sh') as sh ON im.cod_ncm = sh.cod_ncm\n",
    "        LEFT JOIN delta_scan('{path_minio_gold}/dim_fator_agregado') as fa ON im.cod_fator_agregado = fa.cod_fator_agregado\n",
    "        LEFT JOIN delta_scan('{path_minio_gold}/dim_pais') as p ON im.cod_pais = p.cod_pais\n",
    "        LEFT JOIN delta_scan('{path_minio_gold}/dim_uf') as uf ON im.cod_estado = uf.cod_estado\n",
    "        LEFT JOIN delta_scan('{path_minio_gold}/dim_tempo') dt ON dt.cod_date = (im.ano || im.mes || '1')\n",
    "        WHERE \n",
    "        dt.cod_date > (SELECT MAX(cod_date) FROM delta_scan('{path_minio_gold}/fat_importacoes'))     \n",
    "\"\"\").to_arrow_table()"
   ]
  },
  {
   "cell_type": "code",
   "execution_count": 26,
   "metadata": {},
   "outputs": [],
   "source": [
    "write_deltalake(\n",
    "        f'{path_minio_gold}/fat_importacoes',\n",
    "        fat_importacoes,\n",
    "        mode='append',\n",
    "        storage_options=storage_options,\n",
    "        partition_by=[\"ano\",\"mes\"],\n",
    "                max_rows_per_file=100000,        # Máximo de 300.000 linhas por arquivo\n",
    "                max_rows_per_group=100000,       # Máximo de 100.000 linhas por grupo\n",
    "                min_rows_per_group=10000 \n",
    ")"
   ]
  },
  {
   "cell_type": "code",
   "execution_count": 27,
   "metadata": {},
   "outputs": [],
   "source": [
    "con.close()"
   ]
  }
 ],
 "metadata": {
  "kernelspec": {
   "display_name": "Python 3",
   "language": "python",
   "name": "python3"
  },
  "language_info": {
   "codemirror_mode": {
    "name": "ipython",
    "version": 3
   },
   "file_extension": ".py",
   "mimetype": "text/x-python",
   "name": "python",
   "nbconvert_exporter": "python",
   "pygments_lexer": "ipython3",
   "version": "3.12.2"
  }
 },
 "nbformat": 4,
 "nbformat_minor": 2
}
