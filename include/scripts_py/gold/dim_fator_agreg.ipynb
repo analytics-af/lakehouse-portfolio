{
 "cells": [
  {
   "cell_type": "code",
   "execution_count": 17,
   "metadata": {},
   "outputs": [],
   "source": [
    "import duckdb  # Importa o DuckDB para manipulação de dados e execução de SQL\n",
    "import os  # Importa o módulo os para interagir com variáveis de ambiente do sistema\n",
    "from dotenv import load_dotenv, find_dotenv  # Importa funções para carregar variáveis de ambiente de um arquivo .env\n",
    "from deltalake import DeltaTable, write_deltalake\n",
    "\n",
    "# Define as credenciais de acesso ao MinIO a partir das variáveis de ambiente\n",
    "AWS_ACCESS_KEY = os.getenv(\"AWS_ACCESS_KEY_MINIO\")  # Chave de acesso do MinIO\n",
    "AWS_SECRET_KEY = os.getenv(\"AWS_SECRET_KEY_MINIO\")  # Chave secreta do MinIO\n",
    "HOST_MINIO = os.getenv(\"HOST_MINIO\")  # Host do MinIO\n",
    "\n",
    "# Carrega as variáveis de ambiente definidas no arquivo .env\n",
    "load_dotenv(find_dotenv())\n",
    "\n",
    "# Conecta ao DuckDB, criando uma instância de conexão\n",
    "con = duckdb.connect()\n",
    "\n",
    "# Cria uma secret no DuckDB para acessar o MinIO com as credenciais fornecidas\n",
    "con.execute(f\"\"\"\n",
    "    CREATE SECRET my_minio_secret (\n",
    "        TYPE 'S3',\n",
    "        KEY_ID '{AWS_ACCESS_KEY}',\n",
    "        SECRET '{AWS_SECRET_KEY}',\n",
    "        REGION 'us-east-1',\n",
    "        ENDPOINT '{HOST_MINIO}:9000',\n",
    "        URL_STYLE 'path',\n",
    "        USE_SSL false\n",
    "    );\n",
    "\"\"\")\n",
    "\n",
    "# Define o caminho de destino no MinIO para os arquivos Parquet\n",
    "path_minio_gold = 's3://gold/comex/dim_fator_agregado'\n",
    "path_minio_silver = 's3://silver/comex'"
   ]
  },
  {
   "cell_type": "code",
   "execution_count": 18,
   "metadata": {},
   "outputs": [],
   "source": [
    "storage_options = {\n",
    "    \"AWS_ENDPOINT_URL\": f\"http://{HOST_MINIO}:9000\",\n",
    "    \"AWS_REGION\": \"us-east-1\",\n",
    "    \"AWS_ACCESS_KEY_ID\": AWS_ACCESS_KEY,\n",
    "    \"AWS_SECRET_ACCESS_KEY\": AWS_SECRET_KEY,\n",
    "    \"AWS_S3_ALLOW_UNSAFE_RENAME\": \"true\",\n",
    "    \"AWS_ALLOW_HTTP\": \"true\"\n",
    "}"
   ]
  },
  {
   "cell_type": "code",
   "execution_count": 19,
   "metadata": {},
   "outputs": [],
   "source": [
    "dim_fator_agregado = con.sql(f\"\"\"\n",
    "        WITH silver_fator_agregado AS \n",
    "        (\n",
    "        SELECT DISTINCT\n",
    "            cod_fator_agregado,\n",
    "            nome_fator_agregado,\n",
    "            grupo_fator_agregado \n",
    "        FROM delta_scan('{path_minio_silver}/importacoes')\n",
    "        WHERE nome_fator_agregado IS NOT NULL\n",
    "        UNION \n",
    "        SELECT DISTINCT\n",
    "            cod_fator_agregado,\n",
    "            nome_fator_agregado,\n",
    "            grupo_fator_agregado \n",
    "        FROM delta_scan('{path_minio_silver}/importacoes')\n",
    "        WHERE nome_fator_agregado IS NOT NULL\n",
    "        ),\n",
    "        \n",
    "        SELECT \n",
    "            S.cod_fator_agregado,\n",
    "            S.nome_fator_agregado,\n",
    "            S.grupo_fator_agregado \n",
    "        FROM silver_fator_agregado S\n",
    "        WHERE  S.cod_fator_agregado NOT IN\n",
    "        (\n",
    "            SELECT DISTINCT cod_fator_agregado FROM delta_scan('{path_minio_gold}')\n",
    "        )\n",
    "\n",
    "    \"\"\").to_arrow_table()\n",
    "\n",
    "#dim_fator_agregado.to_pandas()"
   ]
  },
  {
   "cell_type": "code",
   "execution_count": 20,
   "metadata": {},
   "outputs": [],
   "source": [
    "write_deltalake(\n",
    "        f'{path_minio_gold}',\n",
    "        dim_fator_agregado,\n",
    "        mode='append',\n",
    "        storage_options=storage_options\n",
    "        #partition_by=[\"ano\",\"mes\"]\n",
    ")"
   ]
  },
  {
   "cell_type": "code",
   "execution_count": null,
   "metadata": {},
   "outputs": [],
   "source": [
    "#con.sql(f\"SELECT DISTINCT cod_fator_agregado FROM delta_scan('{path_minio_gold}')\")"
   ]
  },
  {
   "cell_type": "code",
   "execution_count": 22,
   "metadata": {},
   "outputs": [],
   "source": [
    "con.close()"
   ]
  }
 ],
 "metadata": {
  "kernelspec": {
   "display_name": "Python 3",
   "language": "python",
   "name": "python3"
  },
  "language_info": {
   "codemirror_mode": {
    "name": "ipython",
    "version": 3
   },
   "file_extension": ".py",
   "mimetype": "text/x-python",
   "name": "python",
   "nbconvert_exporter": "python",
   "pygments_lexer": "ipython3",
   "version": "3.12.2"
  }
 },
 "nbformat": 4,
 "nbformat_minor": 2
}
