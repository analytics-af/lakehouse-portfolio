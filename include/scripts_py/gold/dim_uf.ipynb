{
 "cells": [
  {
   "cell_type": "code",
   "execution_count": 6,
   "metadata": {},
   "outputs": [],
   "source": [
    "import duckdb  # Importa o DuckDB para manipulação de dados e execução de SQL\n",
    "import os  # Importa o módulo os para interagir com variáveis de ambiente do sistema\n",
    "from dotenv import load_dotenv, find_dotenv  # Importa funções para carregar variáveis de ambiente de um arquivo .env\n",
    "from deltalake import DeltaTable, write_deltalake\n",
    "\n",
    "# Define as credenciais de acesso ao MinIO a partir das variáveis de ambiente\n",
    "AWS_ACCESS_KEY = os.getenv(\"AWS_ACCESS_KEY_MINIO\")  # Chave de acesso do MinIO\n",
    "AWS_SECRET_KEY = os.getenv(\"AWS_SECRET_KEY_MINIO\")  # Chave secreta do MinIO\n",
    "HOST_MINIO = os.getenv(\"HOST_MINIO\")  # Host do MinIO\n",
    "\n",
    "# Carrega as variáveis de ambiente definidas no arquivo .env\n",
    "load_dotenv(find_dotenv())\n",
    "\n",
    "# Conecta ao DuckDB, criando uma instância de conexão\n",
    "con = duckdb.connect()\n",
    "\n",
    "# Cria uma secret no DuckDB para acessar o MinIO com as credenciais fornecidas\n",
    "con.execute(f\"\"\"\n",
    "    CREATE SECRET my_minio_secret (\n",
    "        TYPE 'S3',\n",
    "        KEY_ID '{AWS_ACCESS_KEY}',\n",
    "        SECRET '{AWS_SECRET_KEY}',\n",
    "        REGION 'us-east-1',\n",
    "        ENDPOINT '{HOST_MINIO}:9000',\n",
    "        URL_STYLE 'path',\n",
    "        USE_SSL false\n",
    "    );\n",
    "\"\"\")\n",
    "\n",
    "# Define o caminho de destino no MinIO para os arquivos Parquet\n",
    "path_minio_gold = 's3://gold/comex/dim_uf'\n",
    "path_minio_silver = 's3://silver/comex'"
   ]
  },
  {
   "cell_type": "code",
   "execution_count": 10,
   "metadata": {},
   "outputs": [],
   "source": [
    "storage_options = {\n",
    "    \"AWS_ENDPOINT_URL\": f\"http://{HOST_MINIO}:9000\",\n",
    "    \"AWS_REGION\": \"us-east-1\",\n",
    "    \"AWS_ACCESS_KEY_ID\": AWS_ACCESS_KEY,\n",
    "    \"AWS_SECRET_ACCESS_KEY\": AWS_SECRET_KEY,\n",
    "    \"AWS_S3_ALLOW_UNSAFE_RENAME\": \"true\",\n",
    "    \"AWS_ALLOW_HTTP\": \"true\"\n",
    "}"
   ]
  },
  {
   "cell_type": "code",
   "execution_count": 13,
   "metadata": {},
   "outputs": [],
   "source": [
    "dim_uf = con.sql(f\"\"\"\n",
    "                 \n",
    "              WITH silver_uf as\n",
    "              (\n",
    "              SELECT DISTINCT\n",
    "              cod_estado,\n",
    "              sigla_estado,\n",
    "              nome_estado,\n",
    "              nome_regiao,\n",
    "              FROM delta_scan('{path_minio_silver}/exportacoes')\n",
    "              UNION\n",
    "              SELECT DISTINCT\n",
    "              cod_estado,\n",
    "              sigla_estado,\n",
    "              nome_estado,\n",
    "              nome_regiao,\t\n",
    "              FROM delta_scan('{path_minio_silver}/importacoes')\n",
    "              )\n",
    "\n",
    "              SELECT\n",
    "              cod_estado,\n",
    "              sigla_estado,\n",
    "              nome_estado,\n",
    "              nome_regiao,\t\n",
    "              FROM silver_uf uf \n",
    "              WHERE uf.cod_estado NOT IN( SELECT DISTINCT cod_estado FROM delta_scan('{path_minio_gold}') )\n",
    "\n",
    "        \"\"\").to_arrow_table()"
   ]
  },
  {
   "cell_type": "code",
   "execution_count": null,
   "metadata": {},
   "outputs": [],
   "source": [
    "dim_uf"
   ]
  },
  {
   "cell_type": "code",
   "execution_count": 11,
   "metadata": {},
   "outputs": [],
   "source": [
    "write_deltalake(\n",
    "        f'{path_minio_gold}',\n",
    "        dim_uf,\n",
    "        mode='append',\n",
    "        storage_options=storage_options\n",
    ")"
   ]
  },
  {
   "cell_type": "code",
   "execution_count": null,
   "metadata": {},
   "outputs": [],
   "source": [
    "con.sql(F\"\"\"\n",
    "            SELECT DISTINCT cod_estado FROM delta_scan('{path_minio_gold}')\n",
    "        \"\"\")"
   ]
  },
  {
   "cell_type": "code",
   "execution_count": 14,
   "metadata": {},
   "outputs": [],
   "source": [
    "con.close()"
   ]
  }
 ],
 "metadata": {
  "kernelspec": {
   "display_name": "Python 3",
   "language": "python",
   "name": "python3"
  },
  "language_info": {
   "codemirror_mode": {
    "name": "ipython",
    "version": 3
   },
   "file_extension": ".py",
   "mimetype": "text/x-python",
   "name": "python",
   "nbconvert_exporter": "python",
   "pygments_lexer": "ipython3",
   "version": "3.12.2"
  }
 },
 "nbformat": 4,
 "nbformat_minor": 2
}
