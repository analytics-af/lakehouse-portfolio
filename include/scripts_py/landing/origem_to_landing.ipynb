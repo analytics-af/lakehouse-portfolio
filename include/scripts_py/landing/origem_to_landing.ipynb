{
 "cells": [
  {
   "cell_type": "code",
   "execution_count": 1,
   "metadata": {},
   "outputs": [],
   "source": [
    "import duckdb \n",
    "con = duckdb.connect()\n",
    "import pandas as pd\n",
    "import os\n",
    "import requests\n",
    "from io import StringIO\n",
    "from dotenv import load_dotenv, find_dotenv\n",
    "\n",
    "load_dotenv(find_dotenv())\n",
    "AWS_ACCESS_KEY = os.getenv(\"AWS_ACCESS_KEY_MINIO\")\n",
    "AWS_SECRET_KEY = os.getenv(\"AWS_SECRET_KEY_MINIO\")  # Ajuste conforme necessário para capturar o secret key\n",
    "HOST_MINIO = os.getenv(\"HOST_MINIO\")"
   ]
  },
  {
   "cell_type": "code",
   "execution_count": 2,
   "metadata": {},
   "outputs": [
    {
     "data": {
      "text/plain": [
       "<duckdb.duckdb.DuckDBPyConnection at 0x238c3991e70>"
      ]
     },
     "execution_count": 2,
     "metadata": {},
     "output_type": "execute_result"
    }
   ],
   "source": [
    "con.execute(f\"\"\"\n",
    "    CREATE SECRET my_minio_secret (\n",
    "        TYPE 'S3',\n",
    "        KEY_ID '{AWS_ACCESS_KEY}',\n",
    "        SECRET '{AWS_SECRET_KEY}',\n",
    "        REGION 'us-east-1',\n",
    "        ENDPOINT '{HOST_MINIO}:9000',\n",
    "        URL_STYLE 'path',\n",
    "        USE_SSL false\n",
    "    );\n",
    "\"\"\")\n"
   ]
  },
  {
   "cell_type": "code",
   "execution_count": 3,
   "metadata": {},
   "outputs": [],
   "source": [
    "path_csv = 'C:\\\\COMEX'\n",
    "path_minio = 's3://landing/comex'"
   ]
  },
  {
   "cell_type": "markdown",
   "metadata": {},
   "source": [
    "#### Testar conexão"
   ]
  },
  {
   "cell_type": "code",
   "execution_count": null,
   "metadata": {},
   "outputs": [],
   "source": [
    "con.sql(f\"\"\" \n",
    "           SELECT * FROM '{path_csv}\\\\IMP_EXP\\\\EXP_COMPLETA.csv' limit 5;\n",
    "        \"\"\")\n"
   ]
  },
  {
   "cell_type": "code",
   "execution_count": null,
   "metadata": {},
   "outputs": [],
   "source": [
    "con.sql(f\"\"\" \n",
    "           SELECT * FROM '{path_csv}\\\\IMP_EXP\\\\EXP_COMPLETA.csv' limit 5;\n",
    "        \"\"\")"
   ]
  },
  {
   "cell_type": "markdown",
   "metadata": {},
   "source": [
    "#### Subir manualmente os arquivos\n"
   ]
  },
  {
   "cell_type": "code",
   "execution_count": 119,
   "metadata": {},
   "outputs": [],
   "source": [
    "con.sql(f\"\"\" \n",
    "           COPY (SELECT * FROM '{path_csv}\\\\IMP_EXP\\\\EXP_COMPLETA.csv') TO '{path_minio}/EXP-COMPLETA.parquet';\n",
    "        \"\"\")"
   ]
  },
  {
   "cell_type": "markdown",
   "metadata": {},
   "source": [
    "#### Subir manualmente os arquivos"
   ]
  },
  {
   "cell_type": "code",
   "execution_count": 120,
   "metadata": {},
   "outputs": [],
   "source": [
    "\n",
    "con.sql(f\"\"\" \n",
    "           COPY (SELECT * FROM '{path_csv}\\\\IMP_EXP\\\\IMP_COMPLETA.csv') TO '{path_minio}/IMP-COMPLETA.parquet';\n",
    "        \"\"\")"
   ]
  },
  {
   "cell_type": "markdown",
   "metadata": {},
   "source": [
    "#### Conferir os anos"
   ]
  },
  {
   "cell_type": "code",
   "execution_count": null,
   "metadata": {},
   "outputs": [],
   "source": [
    "con.sql(f\"\"\"\n",
    "    SELECT distinct CO_ANO \n",
    "    FROM read_parquet('{path_minio}/IMP/*.parquet')\n",
    "\"\"\")"
   ]
  },
  {
   "cell_type": "markdown",
   "metadata": {},
   "source": [
    "#### Subir automaticamente EXP e IMP"
   ]
  },
  {
   "cell_type": "code",
   "execution_count": null,
   "metadata": {},
   "outputs": [],
   "source": [
    "lista_exp_imp = ['EXP', 'IMP'] \n",
    "lista_anos = [2023, 2024] \n",
    "\n",
    "for tabela in lista_exp_imp:\n",
    "    for ano in lista_anos:\n",
    "        con.sql(f\"\"\" \n",
    "                COPY (SELECT * FROM read_csv('https://balanca.economia.gov.br/balanca/bd/comexstat-bd/ncm/{tabela}_{ano}.csv', ignore_errors=true)) \n",
    "                TO '{path_minio}/{tabela}/{ano}.parquet' (FORMAT 'parquet');\n",
    "            \"\"\")"
   ]
  },
  {
   "cell_type": "markdown",
   "metadata": {},
   "source": [
    "#### Loop para acessar todas as combinações de tabelas e anos sem sobrescrever"
   ]
  },
  {
   "cell_type": "code",
   "execution_count": null,
   "metadata": {},
   "outputs": [],
   "source": [
    "# Função para baixar, converter e processar os CSVs\n",
    "def process_csvs_to_parquet(lista, path_minio):\n",
    "    for tabela in lista:\n",
    "        # URL do arquivo CSV\n",
    "        url = f\"https://balanca.economia.gov.br/balanca/bd/tabelas/{tabela}.csv\"\n",
    "        response = requests.get(url, verify=False)\n",
    "        \n",
    "        csv_data = StringIO(response.text)\n",
    "        df = pd.read_csv(csv_data, sep=';', encoding='ISO-8859-1')\n",
    "\n",
    "        # Salvar diretamente como Parquet no caminho especificado\n",
    "        con.sql(f\"\"\" \n",
    "            COPY (SELECT * FROM df) \n",
    "            TO '{path_minio}/{tabela}.parquet' (FORMAT 'parquet');\n",
    "         \"\"\")\n",
    "        \n",
    "\n",
    "# Defina a lista de tabelas\n",
    "lista = ['PAIS_BLOCO', 'UF', 'PAIS', 'UF_MUN', 'NCM_SH', 'NCM_FAT_AGREG','NCM']\n",
    "\n",
    "# Caminho de destino (path_minio) para salvar os arquivos parquet\n",
    "path_minio = 's3://landing/comex' # Altere para o seu caminho\n",
    "\n",
    "# Executar a função\n",
    "process_csvs_to_parquet(lista, path_minio)"
   ]
  },
  {
   "cell_type": "code",
   "execution_count": 123,
   "metadata": {},
   "outputs": [],
   "source": [
    "con.close()"
   ]
  }
 ],
 "metadata": {
  "kernelspec": {
   "display_name": "Python 3",
   "language": "python",
   "name": "python3"
  },
  "language_info": {
   "codemirror_mode": {
    "name": "ipython",
    "version": 3
   },
   "file_extension": ".py",
   "mimetype": "text/x-python",
   "name": "python",
   "nbconvert_exporter": "python",
   "pygments_lexer": "ipython3",
   "version": "3.12.2"
  }
 },
 "nbformat": 4,
 "nbformat_minor": 2
}
