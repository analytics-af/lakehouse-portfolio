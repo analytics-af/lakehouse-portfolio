{
 "cells": [
  {
   "cell_type": "code",
   "execution_count": 2,
   "metadata": {},
   "outputs": [],
   "source": [
    "import duckdb  # Importa o DuckDB para manipulação de dados e execução de SQL\n",
    "import os  # Importa o módulo os para interagir com variáveis de ambiente do sistema\n",
    "from dotenv import load_dotenv, find_dotenv  # Importa funções para carregar variáveis de ambiente de um arquivo .env\n",
    "from deltalake import DeltaTable, write_deltalake\n",
    "# Carrega as variáveis de ambiente definidas no arquivo .env\n",
    "load_dotenv(find_dotenv())\n",
    "\n",
    "# Define as credenciais de acesso ao MinIO a partir das variáveis de ambiente\n",
    "AWS_ACCESS_KEY = os.getenv(\"AWS_ACCESS_KEY_MINIO\")  # Chave de acesso do MinIO\n",
    "AWS_SECRET_KEY = os.getenv(\"AWS_SECRET_KEY_MINIO\")  # Chave secreta do MinIO\n",
    "HOST_MINIO = os.getenv(\"HOST_MINIO\")  # Host do MinIO\n",
    "\n",
    "# Conecta ao DuckDB, criando uma instância de conexão\n",
    "con = duckdb.connect()\n",
    "\n",
    "# Cria uma secret no DuckDB para acessar o MinIO com as credenciais fornecidas\n",
    "con.execute(f\"\"\"\n",
    "    CREATE SECRET my_minio_secret (\n",
    "        TYPE 'S3',\n",
    "        KEY_ID '{AWS_ACCESS_KEY}',\n",
    "        SECRET '{AWS_SECRET_KEY}',\n",
    "        REGION 'us-east-1',\n",
    "        ENDPOINT '{HOST_MINIO}:9000',\n",
    "        URL_STYLE 'path',\n",
    "        USE_SSL false\n",
    "    );\n",
    "\"\"\")\n",
    "\n",
    "# Define o caminho de destino no MinIO para os arquivos Parquet\n",
    "path_minio_landing = 's3://landing/comex'\n",
    "path_minio_bronze = 's3://bronze/comex/ncm_sh'"
   ]
  },
  {
   "cell_type": "code",
   "execution_count": 3,
   "metadata": {},
   "outputs": [],
   "source": [
    "storage_options = {\n",
    "    \"AWS_ENDPOINT_URL\": f\"http://{HOST_MINIO}:9000\",\n",
    "    \"AWS_REGION\": \"us-east-1\",\n",
    "    \"AWS_ACCESS_KEY_ID\": AWS_ACCESS_KEY,\n",
    "    \"AWS_SECRET_ACCESS_KEY\": AWS_SECRET_KEY,\n",
    "    \"AWS_S3_ALLOW_UNSAFE_RENAME\": \"true\",\n",
    "    \"AWS_ALLOW_HTTP\": \"true\"\n",
    "}"
   ]
  },
  {
   "cell_type": "code",
   "execution_count": 4,
   "metadata": {},
   "outputs": [
    {
     "data": {
      "text/plain": [
       "┌────────────────────────┐\n",
       "│ count(DISTINCT CO_SH6) │\n",
       "│         int64          │\n",
       "├────────────────────────┤\n",
       "│                   6609 │\n",
       "└────────────────────────┘"
      ]
     },
     "execution_count": 4,
     "metadata": {},
     "output_type": "execute_result"
    }
   ],
   "source": [
    "con.sql(f\"\"\"\n",
    "        SELECT COUNT(DISTINCT CO_SH6) \n",
    "         from '{path_minio_landing}/NCM_SH.parquet';        \n",
    "        \"\"\")"
   ]
  },
  {
   "cell_type": "code",
   "execution_count": 5,
   "metadata": {},
   "outputs": [],
   "source": [
    "df = con.sql(f\"\"\"\n",
    "    SELECT \n",
    "        CO_SH6 AS cod_sh6,\n",
    "        NO_SH6_POR AS nome_sh6,\n",
    "        CO_SH4 AS cod_sh4,\n",
    "        NO_SH4_POR AS nome_sh4,\n",
    "        CO_SH2 AS cod_sh2,\n",
    "        NO_SH2_POR AS nome_sh2,\n",
    "        CO_NCM_SECROM AS cod_ncm_secrom,\n",
    "        NO_SEC_POR AS nome_secao\n",
    "    FROM '{path_minio_landing}/NCM_SH.parquet';\n",
    "        \"\"\").to_arrow_table()"
   ]
  },
  {
   "cell_type": "code",
   "execution_count": 6,
   "metadata": {},
   "outputs": [
    {
     "data": {
      "text/html": [
       "<div>\n",
       "<style scoped>\n",
       "    .dataframe tbody tr th:only-of-type {\n",
       "        vertical-align: middle;\n",
       "    }\n",
       "\n",
       "    .dataframe tbody tr th {\n",
       "        vertical-align: top;\n",
       "    }\n",
       "\n",
       "    .dataframe thead th {\n",
       "        text-align: right;\n",
       "    }\n",
       "</style>\n",
       "<table border=\"1\" class=\"dataframe\">\n",
       "  <thead>\n",
       "    <tr style=\"text-align: right;\">\n",
       "      <th></th>\n",
       "      <th>cod_sh6</th>\n",
       "      <th>nome_sh6</th>\n",
       "      <th>cod_sh4</th>\n",
       "      <th>nome_sh4</th>\n",
       "      <th>cod_sh2</th>\n",
       "      <th>nome_sh2</th>\n",
       "      <th>cod_ncm_secrom</th>\n",
       "      <th>nome_secao</th>\n",
       "    </tr>\n",
       "  </thead>\n",
       "  <tbody>\n",
       "    <tr>\n",
       "      <th>0</th>\n",
       "      <td>10110</td>\n",
       "      <td>Animais vivos das espécies cavalar, asinina e ...</td>\n",
       "      <td>101</td>\n",
       "      <td>Cavalos, asininos e muares, vivos</td>\n",
       "      <td>1</td>\n",
       "      <td>Animais vivos</td>\n",
       "      <td>I</td>\n",
       "      <td>Animais vivos e produtos do reino animal</td>\n",
       "    </tr>\n",
       "    <tr>\n",
       "      <th>1</th>\n",
       "      <td>10111</td>\n",
       "      <td>Cavalos reprodutores, de raça pura</td>\n",
       "      <td>101</td>\n",
       "      <td>Cavalos, asininos e muares, vivos</td>\n",
       "      <td>1</td>\n",
       "      <td>Animais vivos</td>\n",
       "      <td>I</td>\n",
       "      <td>Animais vivos e produtos do reino animal</td>\n",
       "    </tr>\n",
       "    <tr>\n",
       "      <th>2</th>\n",
       "      <td>10119</td>\n",
       "      <td>Outros cavalos, vivos</td>\n",
       "      <td>101</td>\n",
       "      <td>Cavalos, asininos e muares, vivos</td>\n",
       "      <td>1</td>\n",
       "      <td>Animais vivos</td>\n",
       "      <td>I</td>\n",
       "      <td>Animais vivos e produtos do reino animal</td>\n",
       "    </tr>\n",
       "    <tr>\n",
       "      <th>3</th>\n",
       "      <td>10120</td>\n",
       "      <td>Asininos e muares vivos</td>\n",
       "      <td>101</td>\n",
       "      <td>Cavalos, asininos e muares, vivos</td>\n",
       "      <td>1</td>\n",
       "      <td>Animais vivos</td>\n",
       "      <td>I</td>\n",
       "      <td>Animais vivos e produtos do reino animal</td>\n",
       "    </tr>\n",
       "    <tr>\n",
       "      <th>4</th>\n",
       "      <td>10121</td>\n",
       "      <td>Cavalos reprodutores de raça pura</td>\n",
       "      <td>101</td>\n",
       "      <td>Cavalos, asininos e muares, vivos</td>\n",
       "      <td>1</td>\n",
       "      <td>Animais vivos</td>\n",
       "      <td>I</td>\n",
       "      <td>Animais vivos e produtos do reino animal</td>\n",
       "    </tr>\n",
       "  </tbody>\n",
       "</table>\n",
       "</div>"
      ],
      "text/plain": [
       "   cod_sh6                                           nome_sh6  cod_sh4  \\\n",
       "0    10110  Animais vivos das espécies cavalar, asinina e ...      101   \n",
       "1    10111                 Cavalos reprodutores, de raça pura      101   \n",
       "2    10119                              Outros cavalos, vivos      101   \n",
       "3    10120                            Asininos e muares vivos      101   \n",
       "4    10121                  Cavalos reprodutores de raça pura      101   \n",
       "\n",
       "                            nome_sh4  cod_sh2       nome_sh2 cod_ncm_secrom  \\\n",
       "0  Cavalos, asininos e muares, vivos        1  Animais vivos              I   \n",
       "1  Cavalos, asininos e muares, vivos        1  Animais vivos              I   \n",
       "2  Cavalos, asininos e muares, vivos        1  Animais vivos              I   \n",
       "3  Cavalos, asininos e muares, vivos        1  Animais vivos              I   \n",
       "4  Cavalos, asininos e muares, vivos        1  Animais vivos              I   \n",
       "\n",
       "                                 nome_secao  \n",
       "0  Animais vivos e produtos do reino animal  \n",
       "1  Animais vivos e produtos do reino animal  \n",
       "2  Animais vivos e produtos do reino animal  \n",
       "3  Animais vivos e produtos do reino animal  \n",
       "4  Animais vivos e produtos do reino animal  "
      ]
     },
     "execution_count": 6,
     "metadata": {},
     "output_type": "execute_result"
    }
   ],
   "source": [
    "df.to_pandas().head()"
   ]
  },
  {
   "cell_type": "code",
   "execution_count": 9,
   "metadata": {},
   "outputs": [],
   "source": [
    "write_deltalake(\n",
    "        f'{path_minio_bronze}',\n",
    "        df,\n",
    "        storage_options=storage_options\n",
    "    )"
   ]
  },
  {
   "cell_type": "code",
   "execution_count": 7,
   "metadata": {},
   "outputs": [],
   "source": [
    "table_path = f'{path_minio_bronze}'\n",
    "\n",
    "# Conecte à tabela Delta existente\n",
    "table = DeltaTable(table_path, storage_options=storage_options)\n",
    "\n"
   ]
  },
  {
   "cell_type": "code",
   "execution_count": 8,
   "metadata": {},
   "outputs": [
    {
     "data": {
      "text/plain": [
       "{'num_source_rows': 6609,\n",
       " 'num_target_rows_inserted': 6582,\n",
       " 'num_target_rows_updated': 0,\n",
       " 'num_target_rows_deleted': 0,\n",
       " 'num_target_rows_copied': 0,\n",
       " 'num_output_rows': 6582,\n",
       " 'num_target_files_added': 1,\n",
       " 'num_target_files_removed': 0,\n",
       " 'execution_time_ms': 177,\n",
       " 'scan_time_ms': 0,\n",
       " 'rewrite_time_ms': 124}"
      ]
     },
     "execution_count": 8,
     "metadata": {},
     "output_type": "execute_result"
    }
   ],
   "source": [
    "table.merge(\n",
    "    source=df,\n",
    "    predicate='target.cod_sh6 = source.cod_sh6',\n",
    "    source_alias=\"source\",\n",
    "    target_alias=\"target\",\n",
    ").when_not_matched_insert_all().execute()\n"
   ]
  },
  {
   "cell_type": "code",
   "execution_count": 9,
   "metadata": {},
   "outputs": [
    {
     "data": {
      "text/plain": [
       "┌─────────┬──────────────────────┬─────────┬───┬─────────────────────┬────────────────┬──────────────────────┐\n",
       "│ cod_sh6 │       nome_sh6       │ cod_sh4 │ … │      nome_sh2       │ cod_ncm_secrom │      nome_secao      │\n",
       "│  int64  │       varchar        │  int64  │   │       varchar       │    varchar     │       varchar        │\n",
       "├─────────┼──────────────────────┼─────────┼───┼─────────────────────┼────────────────┼──────────────────────┤\n",
       "│   10110 │ Animais vivos das …  │     101 │ … │ Animais vivos       │ I              │ Animais vivos e pr…  │\n",
       "│   10130 │ Animais da espécie…  │     101 │ … │ Animais vivos       │ I              │ Animais vivos e pr…  │\n",
       "│   10221 │ Bovinos domésticos…  │     102 │ … │ Animais vivos       │ I              │ Animais vivos e pr…  │\n",
       "│   10229 │ Outros bovinos dom…  │     102 │ … │ Animais vivos       │ I              │ Animais vivos e pr…  │\n",
       "│   10310 │ Suínos reprodutore…  │     103 │ … │ Animais vivos       │ I              │ Animais vivos e pr…  │\n",
       "│   10514 │ Gansos               │     105 │ … │ Animais vivos       │ I              │ Animais vivos e pr…  │\n",
       "│   10594 │ Galos e galinhas v…  │     105 │ … │ Animais vivos       │ I              │ Animais vivos e pr…  │\n",
       "│   10631 │ Aves de rapina vivas │     106 │ … │ Animais vivos       │ I              │ Animais vivos e pr…  │\n",
       "│   10633 │ Avestruzes; emus (…  │     106 │ … │ Animais vivos       │ I              │ Animais vivos e pr…  │\n",
       "│   10690 │ Outros animais vivos │     106 │ … │ Animais vivos       │ I              │ Animais vivos e pr…  │\n",
       "│     ·   │          ·           │      ·  │ · │       ·             │ ·              │          ·           │\n",
       "│     ·   │          ·           │      ·  │ · │       ·             │ ·              │          ·           │\n",
       "│     ·   │          ·           │      ·  │ · │       ·             │ ·              │          ·           │\n",
       "│  740313 │ Palanquilhas de co…  │    7403 │ … │ Cobre e suas obras  │ XV             │ Metais comuns e su…  │\n",
       "│  740710 │ Barras e perfis de…  │    7407 │ … │ Cobre e suas obras  │ XV             │ Metais comuns e su…  │\n",
       "│  741110 │ Tubos de cobre ref…  │    7411 │ … │ Cobre e suas obras  │ XV             │ Metais comuns e su…  │\n",
       "│  741600 │ Molas de cobre       │    7416 │ … │ Cobre e suas obras  │ XV             │ Metais comuns e su…  │\n",
       "│  780110 │ Chumbo refinado (a…  │    7801 │ … │ Chumbo e suas obras │ XV             │ Metais comuns e su…  │\n",
       "│  780199 │ Outros chumbos em …  │    7801 │ … │ Chumbo e suas obras │ XV             │ Metais comuns e su…  │\n",
       "│  780300 │ Barras, perfis e f…  │    7803 │ … │ Chumbo e suas obras │ XV             │ Metais comuns e su…  │\n",
       "│  790120 │ Ligas de zinco, em…  │    7901 │ … │ Zinco e suas obras  │ XV             │ Metais comuns e su…  │\n",
       "│  790400 │ Barras, perfis e f…  │    7904 │ … │ Zinco e suas obras  │ XV             │ Metais comuns e su…  │\n",
       "│  790500 │ Chapas, folhas e t…  │    7905 │ … │ Zinco e suas obras  │ XV             │ Metais comuns e su…  │\n",
       "├─────────┴──────────────────────┴─────────┴───┴─────────────────────┴────────────────┴──────────────────────┤\n",
       "│ 6609 rows (20 shown)                                                                   8 columns (6 shown) │\n",
       "└────────────────────────────────────────────────────────────────────────────────────────────────────────────┘"
      ]
     },
     "execution_count": 9,
     "metadata": {},
     "output_type": "execute_result"
    }
   ],
   "source": [
    "con.sql(f\"\"\"\n",
    "        SELECT *\n",
    "        FROM delta_scan('{path_minio_bronze}')\n",
    "        \"\"\")"
   ]
  },
  {
   "cell_type": "code",
   "execution_count": 10,
   "metadata": {},
   "outputs": [],
   "source": [
    "con.close()"
   ]
  }
 ],
 "metadata": {
  "kernelspec": {
   "display_name": "Python 3",
   "language": "python",
   "name": "python3"
  },
  "language_info": {
   "codemirror_mode": {
    "name": "ipython",
    "version": 3
   },
   "file_extension": ".py",
   "mimetype": "text/x-python",
   "name": "python",
   "nbconvert_exporter": "python",
   "pygments_lexer": "ipython3",
   "version": "3.12.2"
  }
 },
 "nbformat": 4,
 "nbformat_minor": 2
}
