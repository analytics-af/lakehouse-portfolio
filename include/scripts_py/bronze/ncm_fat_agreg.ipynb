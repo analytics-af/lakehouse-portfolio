{
 "cells": [
  {
   "cell_type": "code",
   "execution_count": 1,
   "metadata": {},
   "outputs": [],
   "source": [
    "import duckdb  # Importa o DuckDB para manipulação de dados e execução de SQL\n",
    "import os  # Importa o módulo os para interagir com variáveis de ambiente do sistema\n",
    "from dotenv import load_dotenv, find_dotenv  # Importa funções para carregar variáveis de ambiente de um arquivo .env\n",
    "from datetime import datetime\n",
    "import pandas as pd\n",
    "from deltalake import DeltaTable, write_deltalake\n",
    "# Carrega as variáveis de ambiente definidas no arquivo .env\n",
    "load_dotenv(find_dotenv())\n",
    "\n",
    "# Define as credenciais de acesso ao MinIO a partir das variáveis de ambiente\n",
    "AWS_ACCESS_KEY = os.getenv(\"AWS_ACCESS_KEY_MINIO\")  # Chave de acesso do MinIO\n",
    "AWS_SECRET_KEY = os.getenv(\"AWS_SECRET_KEY_MINIO\")  # Chave secreta do MinIO\n",
    "HOST_MINIO = os.getenv(\"HOST_MINIO\")  # Host do MinIO\n",
    "\n",
    "# Conecta ao DuckDB, criando uma instância de conexão\n",
    "con = duckdb.connect()\n",
    "\n",
    "# Cria uma secret no DuckDB para acessar o MinIO com as credenciais fornecidas\n",
    "con.execute(f\"\"\"\n",
    "    CREATE SECRET my_minio_secret (\n",
    "        TYPE 'S3',\n",
    "        KEY_ID '{AWS_ACCESS_KEY}',\n",
    "        SECRET '{AWS_SECRET_KEY}',\n",
    "        REGION 'us-east-1',\n",
    "        ENDPOINT '{HOST_MINIO}:9000',\n",
    "        URL_STYLE 'path',\n",
    "        USE_SSL false\n",
    "    );\n",
    "\"\"\")\n",
    "\n",
    "# Define o caminho de destino no MinIO para os arquivos Parquet\n",
    "path_minio_landing = 's3://landing/comex'\n",
    "path_minio_bronze = 's3://bronze/comex/ncm_fat_agreg'"
   ]
  },
  {
   "cell_type": "code",
   "execution_count": 2,
   "metadata": {},
   "outputs": [],
   "source": [
    "storage_options = {\n",
    "    \"AWS_ENDPOINT_URL\": f\"http://{HOST_MINIO}:9000\",\n",
    "    \"AWS_REGION\": \"us-east-1\",\n",
    "    \"AWS_ACCESS_KEY_ID\": AWS_ACCESS_KEY,\n",
    "    \"AWS_SECRET_ACCESS_KEY\": AWS_SECRET_KEY,\n",
    "    \"AWS_S3_ALLOW_UNSAFE_RENAME\": \"true\",\n",
    "    \"AWS_ALLOW_HTTP\": \"true\"\n",
    "}"
   ]
  },
  {
   "cell_type": "code",
   "execution_count": 3,
   "metadata": {},
   "outputs": [
    {
     "data": {
      "text/plain": [
       "┌──────────────┬────────────────────────────┬───────────────────────────┐\n",
       "│ CO_FAT_AGREG │        NO_FAT_AGREG        │      NO_FAT_AGREG_GP      │\n",
       "│   varchar    │          varchar           │          varchar          │\n",
       "├──────────────┼────────────────────────────┼───────────────────────────┤\n",
       "│ 01           │ PRODUTOS BASICOS           │ PRODUTOS BASICOS          │\n",
       "│ 02           │ PRODUTOS SEMIMANUFATURADOS │ PRODUTOS INDUSTRIALIZADOS │\n",
       "│ 03           │ PRODUTOS MANUFATURADOS     │ PRODUTOS INDUSTRIALIZADOS │\n",
       "│ 04           │ TRANSACOES ESPECIAIS       │ OPERACOES ESPECIAIS       │\n",
       "│ 05           │ CONSUMO DE BORDO           │ OPERACOES ESPECIAIS       │\n",
       "│ 06           │ REEXPORTACAO               │ OPERACOES ESPECIAIS       │\n",
       "└──────────────┴────────────────────────────┴───────────────────────────┘"
      ]
     },
     "execution_count": 3,
     "metadata": {},
     "output_type": "execute_result"
    }
   ],
   "source": [
    "con.sql(f\"\"\"\n",
    "        SELECT \n",
    "        *\n",
    "         from '{path_minio_landing}/NCM_FAT_AGREG.parquet';        \n",
    "\n",
    "        \"\"\")"
   ]
  },
  {
   "cell_type": "code",
   "execution_count": 4,
   "metadata": {},
   "outputs": [],
   "source": [
    "df = con.sql(f\"\"\"\n",
    "        SELECT \n",
    "        CAST(CO_FAT_AGREG  as int) AS cod_fator_agregado,\n",
    "        NO_FAT_AGREG AS nome_fator_agregado,\n",
    "        NO_FAT_AGREG_GP AS grupo_fator_agregado\n",
    "         from '{path_minio_landing}/NCM_FAT_AGREG.parquet';        \n",
    "        \"\"\").to_arrow_table()"
   ]
  },
  {
   "cell_type": "code",
   "execution_count": 5,
   "metadata": {},
   "outputs": [
    {
     "data": {
      "text/plain": [
       "pyarrow.Table\n",
       "cod_fator_agregado: int32\n",
       "nome_fator_agregado: string\n",
       "grupo_fator_agregado: string\n",
       "----\n",
       "cod_fator_agregado: [[1,2,3,4,5,6]]\n",
       "nome_fator_agregado: [[\"PRODUTOS BASICOS\",\"PRODUTOS SEMIMANUFATURADOS\",\"PRODUTOS MANUFATURADOS\",\"TRANSACOES ESPECIAIS\",\"CONSUMO DE BORDO\",\"REEXPORTACAO\"]]\n",
       "grupo_fator_agregado: [[\"PRODUTOS BASICOS\",\"PRODUTOS INDUSTRIALIZADOS\",\"PRODUTOS INDUSTRIALIZADOS\",\"OPERACOES ESPECIAIS\",\"OPERACOES ESPECIAIS\",\"OPERACOES ESPECIAIS\"]]"
      ]
     },
     "execution_count": 5,
     "metadata": {},
     "output_type": "execute_result"
    }
   ],
   "source": [
    "df.to_pandas()"
   ]
  },
  {
   "cell_type": "code",
   "execution_count": 6,
   "metadata": {},
   "outputs": [],
   "source": [
    "write_deltalake(\n",
    "        f'{path_minio_bronze}',\n",
    "        df,\n",
    "        storage_options=storage_options,\n",
    "        \n",
    "    )"
   ]
  },
  {
   "cell_type": "code",
   "execution_count": 7,
   "metadata": {},
   "outputs": [],
   "source": [
    "table_path = f'{path_minio_bronze}'\n",
    "\n",
    "# Conecte à tabela Delta existente\n",
    "table = DeltaTable(table_path, storage_options=storage_options)\n",
    "\n"
   ]
  },
  {
   "cell_type": "code",
   "execution_count": 8,
   "metadata": {},
   "outputs": [
    {
     "data": {
      "text/plain": [
       "{'num_source_rows': 6,\n",
       " 'num_target_rows_inserted': 0,\n",
       " 'num_target_rows_updated': 0,\n",
       " 'num_target_rows_deleted': 0,\n",
       " 'num_target_rows_copied': 0,\n",
       " 'num_output_rows': 0,\n",
       " 'num_target_files_added': 0,\n",
       " 'num_target_files_removed': 0,\n",
       " 'execution_time_ms': 67,\n",
       " 'scan_time_ms': 0,\n",
       " 'rewrite_time_ms': 26}"
      ]
     },
     "execution_count": 8,
     "metadata": {},
     "output_type": "execute_result"
    }
   ],
   "source": [
    "table.merge(\n",
    "    source=df,\n",
    "    predicate='target.cod_fator_agregado = source.cod_fator_agregado',\n",
    "    source_alias=\"source\",\n",
    "    target_alias=\"target\",\n",
    ").when_not_matched_insert_all().execute()\n"
   ]
  },
  {
   "cell_type": "code",
   "execution_count": 9,
   "metadata": {},
   "outputs": [
    {
     "data": {
      "text/plain": [
       "┌────────────────────┬────────────────────────────┬───────────────────────────┐\n",
       "│ cod_fator_agregado │    nome_fator_agregado     │   grupo_fator_agregado    │\n",
       "│       int32        │          varchar           │          varchar          │\n",
       "├────────────────────┼────────────────────────────┼───────────────────────────┤\n",
       "│                  1 │ PRODUTOS BASICOS           │ PRODUTOS BASICOS          │\n",
       "│                  2 │ PRODUTOS SEMIMANUFATURADOS │ PRODUTOS INDUSTRIALIZADOS │\n",
       "│                  3 │ PRODUTOS MANUFATURADOS     │ PRODUTOS INDUSTRIALIZADOS │\n",
       "│                  4 │ TRANSACOES ESPECIAIS       │ OPERACOES ESPECIAIS       │\n",
       "│                  5 │ CONSUMO DE BORDO           │ OPERACOES ESPECIAIS       │\n",
       "│                  6 │ REEXPORTACAO               │ OPERACOES ESPECIAIS       │\n",
       "└────────────────────┴────────────────────────────┴───────────────────────────┘"
      ]
     },
     "execution_count": 9,
     "metadata": {},
     "output_type": "execute_result"
    }
   ],
   "source": [
    "con.sql(f\"\"\"\n",
    "        SELECT *\n",
    "FROM delta_scan('{path_minio_bronze}')\n",
    "        \"\"\")"
   ]
  },
  {
   "cell_type": "code",
   "execution_count": 10,
   "metadata": {},
   "outputs": [],
   "source": [
    "con.close()"
   ]
  }
 ],
 "metadata": {
  "kernelspec": {
   "display_name": "Python 3",
   "language": "python",
   "name": "python3"
  },
  "language_info": {
   "codemirror_mode": {
    "name": "ipython",
    "version": 3
   },
   "file_extension": ".py",
   "mimetype": "text/x-python",
   "name": "python",
   "nbconvert_exporter": "python",
   "pygments_lexer": "ipython3",
   "version": "3.12.2"
  }
 },
 "nbformat": 4,
 "nbformat_minor": 2
}
