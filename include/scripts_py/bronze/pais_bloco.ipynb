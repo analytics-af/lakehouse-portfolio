{
 "cells": [
  {
   "cell_type": "code",
   "execution_count": 1,
   "metadata": {},
   "outputs": [],
   "source": [
    "import duckdb  # Importa o DuckDB para manipulação de dados e execução de SQL\n",
    "import os  # Importa o módulo os para interagir com variáveis de ambiente do sistema\n",
    "from dotenv import load_dotenv, find_dotenv  # Importa funções para carregar variáveis de ambiente de um arquivo .env\n",
    "from datetime import datetime\n",
    "import pandas as pd\n",
    "from deltalake import DeltaTable, write_deltalake\n",
    "# Carrega as variáveis de ambiente definidas no arquivo .env\n",
    "load_dotenv(find_dotenv())\n",
    "\n",
    "# Define as credenciais de acesso ao MinIO a partir das variáveis de ambiente\n",
    "AWS_ACCESS_KEY = os.getenv(\"AWS_ACCESS_KEY_MINIO\")  # Chave de acesso do MinIO\n",
    "AWS_SECRET_KEY = os.getenv(\"AWS_SECRET_KEY_MINIO\")  # Chave secreta do MinIO\n",
    "HOST_MINIO = os.getenv(\"HOST_MINIO\")  # Host do MinIO\n",
    "\n",
    "# Conecta ao DuckDB, criando uma instância de conexão\n",
    "con = duckdb.connect()\n",
    "\n",
    "# Cria uma secret no DuckDB para acessar o MinIO com as credenciais fornecidas\n",
    "con.execute(f\"\"\"\n",
    "    CREATE SECRET my_minio_secret (\n",
    "        TYPE 'S3',\n",
    "        KEY_ID '{AWS_ACCESS_KEY}',\n",
    "        SECRET '{AWS_SECRET_KEY}',\n",
    "        REGION 'us-east-1',\n",
    "        ENDPOINT '{HOST_MINIO}:9000',\n",
    "        URL_STYLE 'path',\n",
    "        USE_SSL false\n",
    "    );\n",
    "\"\"\")\n",
    "\n",
    "# Define o caminho de destino no MinIO para os arquivos Parquet\n",
    "path_minio_landing = 's3://landing/comex'\n",
    "path_minio_bronze = 's3://bronze/comex/pais_bloco'"
   ]
  },
  {
   "cell_type": "code",
   "execution_count": 2,
   "metadata": {},
   "outputs": [],
   "source": [
    "storage_options = {\n",
    "    \"AWS_ENDPOINT_URL\": f\"http://{HOST_MINIO}:9000\",\n",
    "    \"AWS_REGION\": \"us-east-1\",\n",
    "    \"AWS_ACCESS_KEY_ID\": AWS_ACCESS_KEY,\n",
    "    \"AWS_SECRET_ACCESS_KEY\": AWS_SECRET_KEY,\n",
    "    \"AWS_S3_ALLOW_UNSAFE_RENAME\": \"true\",\n",
    "    \"AWS_ALLOW_HTTP\": \"true\"\n",
    "}"
   ]
  },
  {
   "cell_type": "code",
   "execution_count": 3,
   "metadata": {},
   "outputs": [],
   "source": [
    "df = con.sql(f\"\"\"\n",
    "        SELECT \n",
    "        CAST(CO_PAIS as int) AS cod_pais,\n",
    "        CO_BLOCO as cod_bloco,\n",
    "        NO_BLOCO as nome_bloco\n",
    "         from '{path_minio_landing}/PAIS_BLOCO.parquet';        \n",
    "\n",
    "        \"\"\").to_arrow_table()"
   ]
  },
  {
   "cell_type": "code",
   "execution_count": 4,
   "metadata": {},
   "outputs": [
    {
     "data": {
      "text/plain": [
       "pyarrow.Table\n",
       "cod_pais: int32\n",
       "cod_bloco: int64\n",
       "nome_bloco: string\n",
       "----\n",
       "cod_pais: [[788,525,229,281,438,...,367,393,603,427,467]]\n",
       "cod_bloco: [[51,51,51,51,51,...,22,22,22,22,22]]\n",
       "nome_bloco: [[\"África\",\"África\",\"África\",\"África\",\"África\",...,\"União Europeia - UE\",\"União Europeia - UE\",\"União Europeia - UE\",\"União Europeia - UE\",\"União Europeia - UE\"]]"
      ]
     },
     "execution_count": 4,
     "metadata": {},
     "output_type": "execute_result"
    }
   ],
   "source": [
    "df"
   ]
  },
  {
   "cell_type": "code",
   "execution_count": 5,
   "metadata": {},
   "outputs": [],
   "source": [
    "write_deltalake(\n",
    "        f'{path_minio_bronze}',\n",
    "        df,\n",
    "        storage_options=storage_options,\n",
    "        \n",
    "    )"
   ]
  },
  {
   "cell_type": "code",
   "execution_count": 5,
   "metadata": {},
   "outputs": [],
   "source": [
    "table_path = f'{path_minio_bronze}'\n",
    "\n",
    "# Conecte à tabela Delta existente\n",
    "table = DeltaTable(table_path, storage_options=storage_options)\n",
    "\n"
   ]
  },
  {
   "cell_type": "code",
   "execution_count": 6,
   "metadata": {},
   "outputs": [
    {
     "data": {
      "text/plain": [
       "{'num_source_rows': 322,\n",
       " 'num_target_rows_inserted': 178,\n",
       " 'num_target_rows_updated': 144,\n",
       " 'num_target_rows_deleted': 0,\n",
       " 'num_target_rows_copied': 0,\n",
       " 'num_output_rows': 322,\n",
       " 'num_target_files_added': 2,\n",
       " 'num_target_files_removed': 1,\n",
       " 'execution_time_ms': 69,\n",
       " 'scan_time_ms': 0,\n",
       " 'rewrite_time_ms': 39}"
      ]
     },
     "execution_count": 6,
     "metadata": {},
     "output_type": "execute_result"
    }
   ],
   "source": [
    "table.merge(\n",
    "    source=df,\n",
    "    predicate='target.cod_pais = source.cod_pais',\n",
    "    source_alias=\"source\",\n",
    "    target_alias=\"target\",\n",
    ").when_matched_update(\n",
    "    {\n",
    "        \"cod_bloco\": \"source.cod_bloco\",\n",
    "        \"nome_bloco\": \"source.nome_bloco\"\n",
    "    }\n",
    ").when_not_matched_insert_all().execute()\n"
   ]
  },
  {
   "cell_type": "code",
   "execution_count": 7,
   "metadata": {},
   "outputs": [
    {
     "data": {
      "text/plain": [
       "┌──────────┬───────────┬─────────────────────────────────┐\n",
       "│ cod_pais │ cod_bloco │           nome_bloco            │\n",
       "│  int32   │   int64   │             varchar             │\n",
       "├──────────┼───────────┼─────────────────────────────────┤\n",
       "│       40 │        51 │ África                          │\n",
       "│      240 │        51 │ África                          │\n",
       "│      623 │        51 │ África                          │\n",
       "│      660 │        51 │ África                          │\n",
       "│      329 │        51 │ África                          │\n",
       "│       65 │       105 │ América Central e Caribe        │\n",
       "│       41 │       105 │ América Central e Caribe        │\n",
       "│       83 │       105 │ América Central e Caribe        │\n",
       "│      698 │       105 │ América Central e Caribe        │\n",
       "│       99 │       105 │ América Central e Caribe        │\n",
       "│        · │        ·  │   ·                             │\n",
       "│        · │        ·  │   ·                             │\n",
       "│        · │        ·  │   ·                             │\n",
       "│      737 │       112 │ Europa                          │\n",
       "│       17 │       112 │ Europa                          │\n",
       "│      271 │       112 │ Europa                          │\n",
       "│      427 │       112 │ Europa                          │\n",
       "│      106 │       111 │ Mercado Comum do Sul - Mercosul │\n",
       "│      396 │        61 │ Oceania                         │\n",
       "│      271 │        22 │ União Europeia - UE             │\n",
       "│       15 │        22 │ União Europeia - UE             │\n",
       "│       23 │        22 │ União Europeia - UE             │\n",
       "│      427 │        22 │ União Europeia - UE             │\n",
       "├──────────┴───────────┴─────────────────────────────────┤\n",
       "│ 322 rows (20 shown)                          3 columns │\n",
       "└────────────────────────────────────────────────────────┘"
      ]
     },
     "execution_count": 7,
     "metadata": {},
     "output_type": "execute_result"
    }
   ],
   "source": [
    "con.sql(f\"\"\"\n",
    "        SELECT *\n",
    "FROM delta_scan('{path_minio_bronze}')\n",
    "        \"\"\")"
   ]
  },
  {
   "cell_type": "code",
   "execution_count": 8,
   "metadata": {},
   "outputs": [],
   "source": [
    "con.close()"
   ]
  }
 ],
 "metadata": {
  "kernelspec": {
   "display_name": "Python 3",
   "language": "python",
   "name": "python3"
  },
  "language_info": {
   "codemirror_mode": {
    "name": "ipython",
    "version": 3
   },
   "file_extension": ".py",
   "mimetype": "text/x-python",
   "name": "python",
   "nbconvert_exporter": "python",
   "pygments_lexer": "ipython3",
   "version": "3.12.2"
  }
 },
 "nbformat": 4,
 "nbformat_minor": 2
}
