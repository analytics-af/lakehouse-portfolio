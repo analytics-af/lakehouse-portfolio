{
 "cells": [
  {
   "cell_type": "code",
   "execution_count": 1,
   "metadata": {},
   "outputs": [],
   "source": [
    "import duckdb  # Importa o DuckDB para manipulação de dados e execução de SQL\n",
    "import os  # Importa o módulo os para interagir com variáveis de ambiente do sistema\n",
    "from dotenv import load_dotenv, find_dotenv  # Importa funções para carregar variáveis de ambiente de um arquivo .env\n",
    "from datetime import datetime\n",
    "import pandas as pd\n",
    "from deltalake import DeltaTable, write_deltalake\n",
    "# Carrega as variáveis de ambiente definidas no arquivo .env\n",
    "load_dotenv(find_dotenv())\n",
    "\n",
    "# Define as credenciais de acesso ao MinIO a partir das variáveis de ambiente\n",
    "AWS_ACCESS_KEY = os.getenv(\"AWS_ACCESS_KEY_MINIO\")  # Chave de acesso do MinIO\n",
    "AWS_SECRET_KEY = os.getenv(\"AWS_SECRET_KEY_MINIO\")  # Chave secreta do MinIO\n",
    "HOST_MINIO = os.getenv(\"HOST_MINIO\")  # Host do MinIO\n",
    "\n",
    "# Conecta ao DuckDB, criando uma instância de conexão\n",
    "con = duckdb.connect()\n",
    "\n",
    "# Cria uma secret no DuckDB para acessar o MinIO com as credenciais fornecidas\n",
    "con.execute(f\"\"\"\n",
    "    CREATE SECRET my_minio_secret (\n",
    "        TYPE 'S3',\n",
    "        KEY_ID '{AWS_ACCESS_KEY}',\n",
    "        SECRET '{AWS_SECRET_KEY}',\n",
    "        REGION 'us-east-1',\n",
    "        ENDPOINT '{HOST_MINIO}:9000',\n",
    "        URL_STYLE 'path',\n",
    "        USE_SSL false\n",
    "    );\n",
    "\"\"\")\n",
    "\n",
    "# Define o caminho de destino no MinIO para os arquivos Parquet\n",
    "path_minio_landing = 's3://landing/comex/IMP'\n",
    "path_minio_bronze = 's3://bronze/comex/importacoes'"
   ]
  },
  {
   "cell_type": "code",
   "execution_count": 2,
   "metadata": {},
   "outputs": [],
   "source": [
    "storage_options = {\n",
    "    \"AWS_ENDPOINT_URL\": f\"http://{HOST_MINIO}:9000\",\n",
    "    \"AWS_REGION\": \"us-east-1\",\n",
    "    \"AWS_ACCESS_KEY_ID\": AWS_ACCESS_KEY,\n",
    "    \"AWS_SECRET_ACCESS_KEY\": AWS_SECRET_KEY,\n",
    "    \"AWS_S3_ALLOW_UNSAFE_RENAME\": \"true\",\n",
    "    \"AWS_ALLOW_HTTP\": \"true\"\n",
    "}"
   ]
  },
  {
   "cell_type": "code",
   "execution_count": 3,
   "metadata": {},
   "outputs": [],
   "source": [
    "#Total\n",
    "df = con.sql(f\"\"\"   \n",
    "            SELECT\n",
    "            CAST(CO_ANO as INT) as ano,\n",
    "            CAST(CO_MES as INT) as mes,\n",
    "            CO_NCM as cod_NCM,\n",
    "            CO_UNID as cod_unidade,\n",
    "            CO_PAIS as cod_pais,\n",
    "            SG_UF_NCM as sigla_estado,\n",
    "            CO_VIA as cod_via,\n",
    "            CO_URF as cod_urf,\n",
    "            QT_ESTAT as qtd,\n",
    "            KG_LIQUIDO as kg_liquido,\n",
    "            VL_FOB as valor_fob,\n",
    "            VL_FRETE as valor_frete,\n",
    "            VL_SEGURO as valor_seguro\n",
    "        FROM '{path_minio_landing}/*.parquet'\n",
    "        \"\"\").to_arrow_table()"
   ]
  },
  {
   "cell_type": "code",
   "execution_count": 4,
   "metadata": {},
   "outputs": [],
   "source": [
    "write_deltalake(\n",
    "        f'{path_minio_bronze}',\n",
    "        df,\n",
    "        storage_options=storage_options,\n",
    "        mode='append',\n",
    "        partition_by=[\"ano\",\"mes\"]\n",
    "    )"
   ]
  },
  {
   "cell_type": "markdown",
   "metadata": {},
   "source": [
    "#### Carga incremental"
   ]
  },
  {
   "cell_type": "code",
   "execution_count": 5,
   "metadata": {},
   "outputs": [],
   "source": [
    "df = con.sql(f\"\"\"\n",
    "        SELECT * FROM delta_scan('{path_minio_bronze}')\n",
    "        \"\"\").to_df()"
   ]
  },
  {
   "cell_type": "code",
   "execution_count": null,
   "metadata": {},
   "outputs": [],
   "source": [
    "con.sql(f\"SELECT * FROM df\")"
   ]
  },
  {
   "cell_type": "code",
   "execution_count": 7,
   "metadata": {},
   "outputs": [],
   "source": [
    "# ano máximo do bronze\n",
    "max_ano = con.sql(\"SELECT max(ano) FROM df\").to_df().iloc[0, 0]\n",
    "\n",
    "# mês máximo correspondente ao ano máximo do bronze\n",
    "max_mes = con.sql(f\"SELECT max(mes) FROM df WHERE ano = {max_ano}\").to_df().iloc[0, 0]\n"
   ]
  },
  {
   "cell_type": "code",
   "execution_count": 8,
   "metadata": {},
   "outputs": [],
   "source": [
    "#Incremental\n",
    "df = con.sql(f\"\"\"   \n",
    "            SELECT\n",
    "            CAST(CO_ANO as INT) as ano,\n",
    "            CAST(CO_MES as INT) as mes,\n",
    "            CO_NCM as cod_NCM,\n",
    "            CO_UNID as cod_unidade,\n",
    "            CO_PAIS as cod_pais,\n",
    "            SG_UF_NCM as sigla_estado,\n",
    "            CO_VIA as cod_via,\n",
    "            CO_URF as cod_urf,\n",
    "            QT_ESTAT as qtd,\n",
    "            KG_LIQUIDO as kg_liquido,\n",
    "            VL_FOB as valor_fob,\n",
    "            VL_FRETE as valor_frete,\n",
    "            VL_SEGURO as valor_seguro\n",
    "        FROM '{path_minio_landing}/*.parquet'\n",
    "        WHERE CAST(CO_ANO as INT) > {max_ano} OR\n",
    "        (CAST(CO_ANO as INT) = {max_ano}\n",
    "        AND CAST(CO_MES as INT) > {max_mes})\n",
    "        \"\"\").to_arrow_table()"
   ]
  },
  {
   "cell_type": "code",
   "execution_count": 9,
   "metadata": {},
   "outputs": [],
   "source": [
    "write_deltalake(\n",
    "        f'{path_minio_bronze}',\n",
    "        df,\n",
    "        storage_options=storage_options,\n",
    "        mode='append',\n",
    "        partition_by=[\"ano\",\"mes\"]\n",
    "    )"
   ]
  }
 ],
 "metadata": {
  "kernelspec": {
   "display_name": "Python 3",
   "language": "python",
   "name": "python3"
  },
  "language_info": {
   "codemirror_mode": {
    "name": "ipython",
    "version": 3
   },
   "file_extension": ".py",
   "mimetype": "text/x-python",
   "name": "python",
   "nbconvert_exporter": "python",
   "pygments_lexer": "ipython3",
   "version": "3.12.2"
  }
 },
 "nbformat": 4,
 "nbformat_minor": 2
}
