{
 "cells": [
  {
   "cell_type": "code",
   "execution_count": 1,
   "metadata": {},
   "outputs": [],
   "source": [
    "import duckdb  # Importa o DuckDB para manipulação de dados e execução de SQL\n",
    "import os  # Importa o módulo os para interagir com variáveis de ambiente do sistema\n",
    "from dotenv import load_dotenv, find_dotenv  # Importa funções para carregar variáveis de ambiente de um arquivo .env\n",
    "\n",
    "from deltalake import DeltaTable, write_deltalake\n",
    "# Carrega as variáveis de ambiente definidas no arquivo .env\n",
    "load_dotenv(find_dotenv())\n",
    "\n",
    "# Define as credenciais de acesso ao MinIO a partir das variáveis de ambiente\n",
    "AWS_ACCESS_KEY = os.getenv(\"AWS_ACCESS_KEY_MINIO\")  # Chave de acesso do MinIO\n",
    "AWS_SECRET_KEY = os.getenv(\"AWS_SECRET_KEY_MINIO\")  # Chave secreta do MinIO\n",
    "HOST_MINIO = os.getenv(\"HOST_MINIO\")  # Host do MinIO\n",
    "\n",
    "# Conecta ao DuckDB, criando uma instância de conexão\n",
    "con = duckdb.connect()\n",
    "\n",
    "# Cria uma secret no DuckDB para acessar o MinIO com as credenciais fornecidas\n",
    "con.execute(f\"\"\"\n",
    "    CREATE SECRET my_minio_secret (\n",
    "        TYPE 'S3',\n",
    "        KEY_ID '{AWS_ACCESS_KEY}',\n",
    "        SECRET '{AWS_SECRET_KEY}',\n",
    "        REGION 'us-east-1',\n",
    "        ENDPOINT '{HOST_MINIO}:9000',\n",
    "        URL_STYLE 'path',\n",
    "        USE_SSL false\n",
    "    );\n",
    "\"\"\")\n",
    "\n",
    "# Define o caminho de destino no MinIO para os arquivos Parquet\n",
    "path_minio_landing = 's3://landing/comex'\n",
    "path_minio_bronze = 's3://bronze/comex/uf_mun'"
   ]
  },
  {
   "cell_type": "code",
   "execution_count": 2,
   "metadata": {},
   "outputs": [],
   "source": [
    "storage_options = {\n",
    "    \"AWS_ENDPOINT_URL\": f\"http://{HOST_MINIO}:9000\",\n",
    "    \"AWS_REGION\": \"us-east-1\",\n",
    "    \"AWS_ACCESS_KEY_ID\": AWS_ACCESS_KEY,\n",
    "    \"AWS_SECRET_ACCESS_KEY\": AWS_SECRET_KEY,\n",
    "    \"AWS_S3_ALLOW_UNSAFE_RENAME\": \"true\",\n",
    "    \"AWS_ALLOW_HTTP\": \"true\"\n",
    "}"
   ]
  },
  {
   "cell_type": "code",
   "execution_count": 3,
   "metadata": {},
   "outputs": [
    {
     "data": {
      "text/plain": [
       "┌────────────┬──────────────────────────┬──────────────────────────┬─────────┐\n",
       "│ CO_MUN_GEO │          NO_MUN          │        NO_MUN_MIN        │  SG_UF  │\n",
       "│   int64    │         varchar          │         varchar          │ varchar │\n",
       "├────────────┼──────────────────────────┼──────────────────────────┼─────────┤\n",
       "│    1501758 │ BREJO GRANDE DO ARAGUAIA │ Brejo Grande do Araguaia │ PA      │\n",
       "│    1501782 │ BREU BRANCO              │ Breu Branco              │ PA      │\n",
       "│    1501808 │ BREVES                   │ Breves                   │ PA      │\n",
       "│    1501907 │ BUJARU                   │ Bujaru                   │ PA      │\n",
       "│    1501956 │ CACHOEIRA DO PIRIA       │ Cachoeira do Piriá       │ PA      │\n",
       "│    1502004 │ CACHOEIRA DO ARARI       │ Cachoeira do Arari       │ PA      │\n",
       "│    1502103 │ CAMETA                   │ Cametá                   │ PA      │\n",
       "│    1502152 │ CANAA DOS CARAJAS        │ Canaã dos Carajás        │ PA      │\n",
       "│    1502202 │ CAPANEMA                 │ Capanema                 │ PA      │\n",
       "│    1502301 │ CAPITAO POCO             │ Capitão Poço             │ PA      │\n",
       "│       ·    │      ·                   │      ·                   │ ·       │\n",
       "│       ·    │      ·                   │      ·                   │ ·       │\n",
       "│       ·    │      ·                   │      ·                   │ ·       │\n",
       "│    4314076 │ PASSO DO SOBRADO         │ Passo do Sobrado         │ RS      │\n",
       "│    4314100 │ PASSO FUNDO              │ Passo Fundo              │ RS      │\n",
       "│    4314134 │ PAULO BENTO              │ Paulo Bento              │ RS      │\n",
       "│    4314159 │ PAVERAMA                 │ Paverama                 │ RS      │\n",
       "│    4314175 │ PEDRAS ALTAS             │ Pedras Altas             │ RS      │\n",
       "│    4314209 │ PEDRO OSORIO             │ Pedro Osório             │ RS      │\n",
       "│    4314308 │ PEJUCARA                 │ Pejuçara                 │ RS      │\n",
       "│    4314407 │ PELOTAS                  │ Pelotas                  │ RS      │\n",
       "│    4314423 │ PICADA CAFE              │ Picada Café              │ RS      │\n",
       "│    4314456 │ PINHAL                   │ Pinhal                   │ RS      │\n",
       "├────────────┴──────────────────────────┴──────────────────────────┴─────────┤\n",
       "│ 5570 rows (20 shown)                                             4 columns │\n",
       "└────────────────────────────────────────────────────────────────────────────┘"
      ]
     },
     "execution_count": 3,
     "metadata": {},
     "output_type": "execute_result"
    }
   ],
   "source": [
    "con.sql(f\"\"\"\n",
    "        SELECT \n",
    "        *\n",
    "         from '{path_minio_landing}/UF_MUN.parquet';        \n",
    "        \"\"\")"
   ]
  },
  {
   "cell_type": "code",
   "execution_count": 4,
   "metadata": {},
   "outputs": [],
   "source": [
    "df = con.sql(f\"\"\"\n",
    "        SELECT \n",
    "        CAST( CO_MUN_GEO as int) AS cod_municipio,\n",
    "        NO_MUN_MIN as nome_municipio,\n",
    "        SG_UF as sigla_estado\n",
    "        from '{path_minio_landing}/UF_MUN.parquet';        \n",
    "\n",
    "        \"\"\").to_arrow_table()"
   ]
  },
  {
   "cell_type": "code",
   "execution_count": 5,
   "metadata": {},
   "outputs": [
    {
     "data": {
      "text/plain": [
       "pyarrow.Table\n",
       "cod_municipio: int32\n",
       "nome_municipio: string\n",
       "sigla_estado: string\n",
       "----\n",
       "cod_municipio: [[1501758,1501782,1501808,1501907,1501956,...,4314209,4314308,4314407,4314423,4314456]]\n",
       "nome_municipio: [[\"Brejo Grande do Araguaia\",\"Breu Branco\",\"Breves\",\"Bujaru\",\"Cachoeira do Piriá\",...,\"Pedro Osório\",\"Pejuçara\",\"Pelotas\",\"Picada Café\",\"Pinhal\"]]\n",
       "sigla_estado: [[\"PA\",\"PA\",\"PA\",\"PA\",\"PA\",...,\"RS\",\"RS\",\"RS\",\"RS\",\"RS\"]]"
      ]
     },
     "execution_count": 5,
     "metadata": {},
     "output_type": "execute_result"
    }
   ],
   "source": [
    "df"
   ]
  },
  {
   "cell_type": "code",
   "execution_count": 6,
   "metadata": {},
   "outputs": [
    {
     "ename": "FileExistsError",
     "evalue": "Delta table already exists, write mode set to error.",
     "output_type": "error",
     "traceback": [
      "\u001b[1;31m---------------------------------------------------------------------------\u001b[0m",
      "\u001b[1;31mFileExistsError\u001b[0m                           Traceback (most recent call last)",
      "Cell \u001b[1;32mIn[6], line 1\u001b[0m\n\u001b[1;32m----> 1\u001b[0m \u001b[43mwrite_deltalake\u001b[49m\u001b[43m(\u001b[49m\n\u001b[0;32m      2\u001b[0m \u001b[43m        \u001b[49m\u001b[38;5;124;43mf\u001b[39;49m\u001b[38;5;124;43m'\u001b[39;49m\u001b[38;5;132;43;01m{\u001b[39;49;00m\u001b[43mpath_minio_bronze\u001b[49m\u001b[38;5;132;43;01m}\u001b[39;49;00m\u001b[38;5;124;43m'\u001b[39;49m\u001b[43m,\u001b[49m\n\u001b[0;32m      3\u001b[0m \u001b[43m        \u001b[49m\u001b[43mdf\u001b[49m\u001b[43m,\u001b[49m\n\u001b[0;32m      4\u001b[0m \u001b[43m        \u001b[49m\u001b[43mstorage_options\u001b[49m\u001b[38;5;241;43m=\u001b[39;49m\u001b[43mstorage_options\u001b[49m\u001b[43m,\u001b[49m\n\u001b[0;32m      5\u001b[0m \u001b[43m        \u001b[49m\n\u001b[0;32m      6\u001b[0m \u001b[43m    \u001b[49m\u001b[43m)\u001b[49m\n",
      "File \u001b[1;32mc:\\Users\\CharlesLima\\AppData\\Local\\Programs\\Python\\Python312\\Lib\\site-packages\\deltalake\\writer.py:357\u001b[0m, in \u001b[0;36mwrite_deltalake\u001b[1;34m(table_or_uri, data, schema, partition_by, mode, file_options, max_partitions, max_open_files, max_rows_per_file, min_rows_per_group, max_rows_per_group, name, description, configuration, overwrite_schema, schema_mode, storage_options, partition_filters, predicate, large_dtypes, engine, writer_properties, custom_metadata)\u001b[0m\n\u001b[0;32m    352\u001b[0m     \u001b[38;5;28;01mraise\u001b[39;00m \u001b[38;5;167;01mValueError\u001b[39;00m(\n\u001b[0;32m    353\u001b[0m         \u001b[38;5;124m\"\u001b[39m\u001b[38;5;124mSchema of data does not match table schema\u001b[39m\u001b[38;5;130;01m\\n\u001b[39;00m\u001b[38;5;124m\"\u001b[39m\n\u001b[0;32m    354\u001b[0m         \u001b[38;5;124mf\u001b[39m\u001b[38;5;124m\"\u001b[39m\u001b[38;5;124mData schema:\u001b[39m\u001b[38;5;130;01m\\n\u001b[39;00m\u001b[38;5;132;01m{\u001b[39;00mschema\u001b[38;5;132;01m}\u001b[39;00m\u001b[38;5;130;01m\\n\u001b[39;00m\u001b[38;5;124mTable Schema:\u001b[39m\u001b[38;5;130;01m\\n\u001b[39;00m\u001b[38;5;132;01m{\u001b[39;00mtable\u001b[38;5;241m.\u001b[39mschema()\u001b[38;5;241m.\u001b[39mto_pyarrow(as_large_types\u001b[38;5;241m=\u001b[39mlarge_dtypes)\u001b[38;5;132;01m}\u001b[39;00m\u001b[38;5;124m\"\u001b[39m\n\u001b[0;32m    355\u001b[0m     )\n\u001b[0;32m    356\u001b[0m \u001b[38;5;28;01mif\u001b[39;00m mode \u001b[38;5;241m==\u001b[39m \u001b[38;5;124m\"\u001b[39m\u001b[38;5;124merror\u001b[39m\u001b[38;5;124m\"\u001b[39m:\n\u001b[1;32m--> 357\u001b[0m     \u001b[38;5;28;01mraise\u001b[39;00m \u001b[38;5;167;01mFileExistsError\u001b[39;00m(\n\u001b[0;32m    358\u001b[0m         \u001b[38;5;124m\"\u001b[39m\u001b[38;5;124mDelta table already exists, write mode set to error.\u001b[39m\u001b[38;5;124m\"\u001b[39m\n\u001b[0;32m    359\u001b[0m     )\n\u001b[0;32m    360\u001b[0m \u001b[38;5;28;01melif\u001b[39;00m mode \u001b[38;5;241m==\u001b[39m \u001b[38;5;124m\"\u001b[39m\u001b[38;5;124mignore\u001b[39m\u001b[38;5;124m\"\u001b[39m:\n\u001b[0;32m    361\u001b[0m     \u001b[38;5;28;01mreturn\u001b[39;00m\n",
      "\u001b[1;31mFileExistsError\u001b[0m: Delta table already exists, write mode set to error."
     ]
    }
   ],
   "source": [
    "write_deltalake(\n",
    "        f'{path_minio_bronze}',\n",
    "        df,\n",
    "        storage_options=storage_options,\n",
    "        \n",
    "    )"
   ]
  },
  {
   "cell_type": "code",
   "execution_count": 7,
   "metadata": {},
   "outputs": [],
   "source": [
    "table_path = f'{path_minio_bronze}'\n",
    "\n",
    "# Conecte à tabela Delta existente\n",
    "table = DeltaTable(table_path, storage_options=storage_options)\n",
    "\n"
   ]
  },
  {
   "cell_type": "code",
   "execution_count": 8,
   "metadata": {},
   "outputs": [
    {
     "data": {
      "text/plain": [
       "{'num_source_rows': 5570,\n",
       " 'num_target_rows_inserted': 2386,\n",
       " 'num_target_rows_updated': 3184,\n",
       " 'num_target_rows_deleted': 0,\n",
       " 'num_target_rows_copied': 0,\n",
       " 'num_output_rows': 5570,\n",
       " 'num_target_files_added': 1,\n",
       " 'num_target_files_removed': 1,\n",
       " 'execution_time_ms': 613,\n",
       " 'scan_time_ms': 0,\n",
       " 'rewrite_time_ms': 585}"
      ]
     },
     "execution_count": 8,
     "metadata": {},
     "output_type": "execute_result"
    }
   ],
   "source": [
    "table.merge(\n",
    "    source=df,\n",
    "    predicate='target.cod_municipio = source.cod_municipio',\n",
    "    source_alias=\"source\",\n",
    "    target_alias=\"target\",\n",
    ").when_matched_update(\n",
    "    {\n",
    "        \"nome_municipio\": \"source.nome_municipio\",\n",
    "        \"sigla_estado\": \"source.sigla_estado\"\n",
    "    }\n",
    ").when_not_matched_insert_all().execute()\n"
   ]
  },
  {
   "cell_type": "code",
   "execution_count": 9,
   "metadata": {},
   "outputs": [
    {
     "data": {
      "text/plain": [
       "┌───────────────┬────────────────────────────────┬──────────────┐\n",
       "│ cod_municipio │         nome_municipio         │ sigla_estado │\n",
       "│     int32     │            varchar             │   varchar    │\n",
       "├───────────────┼────────────────────────────────┼──────────────┤\n",
       "│       1502855 │ Curuá                          │ PA           │\n",
       "│       1505304 │ Oriximiná                      │ PA           │\n",
       "│       1505437 │ Ourilândia do Norte            │ PA           │\n",
       "│       2110609 │ São Bernardo                   │ MA           │\n",
       "│       2110708 │ São Domingos do Maranhão       │ MA           │\n",
       "│       2111029 │ São João do Carú               │ MA           │\n",
       "│       2111409 │ São Luís Gonzaga do Maranhão   │ MA           │\n",
       "│       3162955 │ São José da Lapa               │ MG           │\n",
       "│       3163003 │ São José da Safira             │ MG           │\n",
       "│       3164431 │ São Sebastião da Vargem Alegre │ MG           │\n",
       "│          ·    │    ·                           │ ·            │\n",
       "│          ·    │    ·                           │ ·            │\n",
       "│          ·    │    ·                           │ ·            │\n",
       "│       4309100 │ Gramado                        │ RS           │\n",
       "│       4310702 │ Itatiba do Sul                 │ RS           │\n",
       "│       4310801 │ Ivoti                          │ RS           │\n",
       "│       4311502 │ Lavras do Sul                  │ RS           │\n",
       "│       4311700 │ Machadinho                     │ RS           │\n",
       "│       4311908 │ Marcelino Ramos                │ RS           │\n",
       "│       4312005 │ Mariano Moro                   │ RS           │\n",
       "│       4312476 │ Morro Reuter                   │ RS           │\n",
       "│       4313805 │ Palmitinho                     │ RS           │\n",
       "│       4314076 │ Passo do Sobrado               │ RS           │\n",
       "├───────────────┴────────────────────────────────┴──────────────┤\n",
       "│ 5570 rows (20 shown)                                3 columns │\n",
       "└───────────────────────────────────────────────────────────────┘"
      ]
     },
     "execution_count": 9,
     "metadata": {},
     "output_type": "execute_result"
    }
   ],
   "source": [
    "con.sql(f\"\"\"\n",
    "        SELECT *\n",
    "FROM delta_scan('{path_minio_bronze}')\n",
    "        \"\"\")"
   ]
  },
  {
   "cell_type": "code",
   "execution_count": 10,
   "metadata": {},
   "outputs": [],
   "source": [
    "con.close()"
   ]
  }
 ],
 "metadata": {
  "kernelspec": {
   "display_name": "Python 3",
   "language": "python",
   "name": "python3"
  },
  "language_info": {
   "codemirror_mode": {
    "name": "ipython",
    "version": 3
   },
   "file_extension": ".py",
   "mimetype": "text/x-python",
   "name": "python",
   "nbconvert_exporter": "python",
   "pygments_lexer": "ipython3",
   "version": "3.12.2"
  }
 },
 "nbformat": 4,
 "nbformat_minor": 2
}
