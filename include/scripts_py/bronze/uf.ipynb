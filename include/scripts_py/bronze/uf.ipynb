{
 "cells": [
  {
   "cell_type": "code",
   "execution_count": 1,
   "metadata": {},
   "outputs": [],
   "source": [
    "import duckdb  # Importa o DuckDB para manipulação de dados e execução de SQL\n",
    "import os  # Importa o módulo os para interagir com variáveis de ambiente do sistema\n",
    "from dotenv import load_dotenv, find_dotenv  # Importa funções para carregar variáveis de ambiente de um arquivo .env\n",
    "from deltalake import DeltaTable, write_deltalake\n",
    "# Carrega as variáveis de ambiente definidas no arquivo .env\n",
    "load_dotenv(find_dotenv())\n",
    "\n",
    "# Define as credenciais de acesso ao MinIO a partir das variáveis de ambiente\n",
    "AWS_ACCESS_KEY = os.getenv(\"AWS_ACCESS_KEY_MINIO\")  # Chave de acesso do MinIO\n",
    "AWS_SECRET_KEY = os.getenv(\"AWS_SECRET_KEY_MINIO\")  # Chave secreta do MinIO\n",
    "HOST_MINIO = os.getenv(\"HOST_MINIO\")  # Host do MinIO\n",
    "\n",
    "# Conecta ao DuckDB, criando uma instância de conexão\n",
    "con = duckdb.connect()\n",
    "\n",
    "# Cria uma secret no DuckDB para acessar o MinIO com as credenciais fornecidas\n",
    "con.execute(f\"\"\"\n",
    "    CREATE SECRET my_minio_secret (\n",
    "        TYPE 'S3',\n",
    "        KEY_ID '{AWS_ACCESS_KEY}',\n",
    "        SECRET '{AWS_SECRET_KEY}',\n",
    "        REGION 'us-east-1',\n",
    "        ENDPOINT '{HOST_MINIO}:9000',\n",
    "        URL_STYLE 'path',\n",
    "        USE_SSL false\n",
    "    );\n",
    "\"\"\")\n",
    "\n",
    "# Define o caminho de destino no MinIO para os arquivos Parquet\n",
    "path_minio_landing = 's3://landing/comex'\n",
    "path_minio_bronze = 's3://bronze/comex/uf'"
   ]
  },
  {
   "cell_type": "code",
   "execution_count": 2,
   "metadata": {},
   "outputs": [],
   "source": [
    "storage_options = {\n",
    "    \"AWS_ENDPOINT_URL\": f\"http://{HOST_MINIO}:9000\",\n",
    "    \"AWS_REGION\": \"us-east-1\",\n",
    "    \"AWS_ACCESS_KEY_ID\": AWS_ACCESS_KEY,\n",
    "    \"AWS_SECRET_ACCESS_KEY\": AWS_SECRET_KEY,\n",
    "    \"AWS_S3_ALLOW_UNSAFE_RENAME\": \"true\",\n",
    "    \"AWS_ALLOW_HTTP\": \"true\"\n",
    "}"
   ]
  },
  {
   "cell_type": "code",
   "execution_count": 3,
   "metadata": {},
   "outputs": [
    {
     "data": {
      "text/plain": [
       "┌───────┬─────────┬──────────────────────────┬──────────────────────────┐\n",
       "│ CO_UF │  SG_UF  │          NO_UF           │        NO_REGIAO         │\n",
       "│ int64 │ varchar │         varchar          │         varchar          │\n",
       "├───────┼─────────┼──────────────────────────┼──────────────────────────┤\n",
       "│    99 │ ZN      │ Zona Não Declarada       │ REGIAO NAO DECLARADA     │\n",
       "│    11 │ RO      │ Rondônia                 │ REGIAO NORTE             │\n",
       "│    12 │ AC      │ Acre                     │ REGIAO NORTE             │\n",
       "│    13 │ AM      │ Amazonas                 │ REGIAO NORTE             │\n",
       "│    14 │ RR      │ Roraima                  │ REGIAO NORTE             │\n",
       "│    15 │ PA      │ Pará                     │ REGIAO NORTE             │\n",
       "│    16 │ AP      │ Amapá                    │ REGIAO NORTE             │\n",
       "│    17 │ TO      │ Tocantins                │ REGIAO NORTE             │\n",
       "│    21 │ MA      │ Maranhão                 │ REGIAO NORDESTE          │\n",
       "│    22 │ PI      │ Piauí                    │ REGIAO NORDESTE          │\n",
       "│     · │ ·       │   ·                      │        ·                 │\n",
       "│     · │ ·       │   ·                      │        ·                 │\n",
       "│     · │ ·       │   ·                      │        ·                 │\n",
       "│    52 │ MT      │ Mato Grosso              │ REGIAO CENTRO OESTE      │\n",
       "│    53 │ GO      │ Goiás                    │ REGIAO CENTRO OESTE      │\n",
       "│    54 │ DF      │ Distrito Federal         │ REGIAO CENTRO OESTE      │\n",
       "│    55 │ MS      │ Mato Grosso do Sul       │ REGIAO CENTRO OESTE      │\n",
       "│    93 │ EX      │ Exterior                 │ REGIAO NAO DECLARADA     │\n",
       "│    94 │ CB      │ Consumo de Bordo         │ CONSUMO DE BORDO         │\n",
       "│    96 │ MN      │ Mercadoria Nacionalizada │ MERCADORIA NACIONALIZADA │\n",
       "│    97 │ RE      │ Reexportação             │ REEXPORTACAO             │\n",
       "│    98 │ ED      │ Estados Diversos - Café  │ REGIAO NAO DECLARADA     │\n",
       "│    95 │ ND      │ Não Declarada            │ REGIAO NAO DECLARADA     │\n",
       "├───────┴─────────┴──────────────────────────┴──────────────────────────┤\n",
       "│ 34 rows (20 shown)                                          4 columns │\n",
       "└───────────────────────────────────────────────────────────────────────┘"
      ]
     },
     "execution_count": 3,
     "metadata": {},
     "output_type": "execute_result"
    }
   ],
   "source": [
    "con.sql(f\"\"\"\n",
    "        SELECT \n",
    "        *\n",
    "         from '{path_minio_landing}/UF.parquet';        \n",
    "\n",
    "        \"\"\")"
   ]
  },
  {
   "cell_type": "code",
   "execution_count": 4,
   "metadata": {},
   "outputs": [],
   "source": [
    "df = con.sql(f\"\"\"\n",
    "        SELECT \n",
    "        CAST(CO_UF as int) AS cod_estado,\n",
    "        SG_UF as sigla_estado,\n",
    "        NO_UF as nome_estado,\n",
    "        NO_REGIAO as nome_regiao\n",
    "         from '{path_minio_landing}/UF.parquet';        \n",
    "\n",
    "        \"\"\").to_arrow_table()"
   ]
  },
  {
   "cell_type": "code",
   "execution_count": 5,
   "metadata": {},
   "outputs": [
    {
     "data": {
      "text/plain": [
       "pyarrow.Table\n",
       "cod_estado: int32\n",
       "sigla_estado: string\n",
       "nome_estado: string\n",
       "nome_regiao: string\n",
       "----\n",
       "cod_estado: [[99,11,12,13,14,...,94,96,97,98,95]]\n",
       "sigla_estado: [[\"ZN\",\"RO\",\"AC\",\"AM\",\"RR\",...,\"CB\",\"MN\",\"RE\",\"ED\",\"ND\"]]\n",
       "nome_estado: [[\"Zona Não Declarada\",\"Rondônia\",\"Acre\",\"Amazonas\",\"Roraima\",...,\"Consumo de Bordo\",\"Mercadoria Nacionalizada\",\"Reexportação\",\"Estados Diversos - Café\",\"Não Declarada\"]]\n",
       "nome_regiao: [[\"REGIAO NAO DECLARADA\",\"REGIAO NORTE\",\"REGIAO NORTE\",\"REGIAO NORTE\",\"REGIAO NORTE\",...,\"CONSUMO DE BORDO\",\"MERCADORIA NACIONALIZADA\",\"REEXPORTACAO\",\"REGIAO NAO DECLARADA\",\"REGIAO NAO DECLARADA\"]]"
      ]
     },
     "execution_count": 5,
     "metadata": {},
     "output_type": "execute_result"
    }
   ],
   "source": [
    "df"
   ]
  },
  {
   "cell_type": "code",
   "execution_count": 10,
   "metadata": {},
   "outputs": [],
   "source": [
    "write_deltalake(\n",
    "        f'{path_minio_bronze}',\n",
    "        df,\n",
    "        storage_options=storage_options,\n",
    "        \n",
    "    )"
   ]
  },
  {
   "cell_type": "code",
   "execution_count": 6,
   "metadata": {},
   "outputs": [],
   "source": [
    "table_path = f'{path_minio_bronze}'\n",
    "\n",
    "# Conecte à tabela Delta existente\n",
    "table = DeltaTable(table_path, storage_options=storage_options)\n",
    "\n"
   ]
  },
  {
   "cell_type": "code",
   "execution_count": 7,
   "metadata": {},
   "outputs": [
    {
     "data": {
      "text/plain": [
       "{'num_source_rows': 34,\n",
       " 'num_target_rows_inserted': 15,\n",
       " 'num_target_rows_updated': 0,\n",
       " 'num_target_rows_deleted': 0,\n",
       " 'num_target_rows_copied': 0,\n",
       " 'num_output_rows': 15,\n",
       " 'num_target_files_added': 1,\n",
       " 'num_target_files_removed': 0,\n",
       " 'execution_time_ms': 98,\n",
       " 'scan_time_ms': 0,\n",
       " 'rewrite_time_ms': 49}"
      ]
     },
     "execution_count": 7,
     "metadata": {},
     "output_type": "execute_result"
    }
   ],
   "source": [
    "table.merge(\n",
    "    source=df,\n",
    "    predicate='target.cod_estado = source.cod_estado',\n",
    "    source_alias=\"source\",\n",
    "    target_alias=\"target\",\n",
    ").when_not_matched_insert_all().execute()\n"
   ]
  },
  {
   "cell_type": "code",
   "execution_count": 8,
   "metadata": {},
   "outputs": [
    {
     "data": {
      "text/plain": [
       "┌────────────┬──────────────┬──────────────────────────┬──────────────────────────┐\n",
       "│ cod_estado │ sigla_estado │       nome_estado        │       nome_regiao        │\n",
       "│   int32    │   varchar    │         varchar          │         varchar          │\n",
       "├────────────┼──────────────┼──────────────────────────┼──────────────────────────┤\n",
       "│         99 │ ZN           │ Zona Não Declarada       │ REGIAO NAO DECLARADA     │\n",
       "│         22 │ PI           │ Piauí                    │ REGIAO NORDESTE          │\n",
       "│         25 │ PB           │ Paraíba                  │ REGIAO NORDESTE          │\n",
       "│         41 │ SP           │ São Paulo                │ REGIAO SUDESTE           │\n",
       "│         11 │ RO           │ Rondônia                 │ REGIAO NORTE             │\n",
       "│         15 │ PA           │ Pará                     │ REGIAO NORTE             │\n",
       "│         23 │ CE           │ Ceará                    │ REGIAO NORDESTE          │\n",
       "│         97 │ RE           │ Reexportação             │ REEXPORTACAO             │\n",
       "│         16 │ AP           │ Amapá                    │ REGIAO NORTE             │\n",
       "│         42 │ PR           │ Paraná                   │ REGIAO SUL               │\n",
       "│          · │ ·            │   ·                      │     ·                    │\n",
       "│          · │ ·            │   ·                      │     ·                    │\n",
       "│          · │ ·            │   ·                      │     ·                    │\n",
       "│         33 │ MG           │ Minas Gerais             │ REGIAO SUDESTE           │\n",
       "│         36 │ RJ           │ Rio de Janeiro           │ REGIAO SUDESTE           │\n",
       "│         44 │ SC           │ Santa Catarina           │ REGIAO SUL               │\n",
       "│         45 │ RS           │ Rio Grande do Sul        │ REGIAO SUL               │\n",
       "│         52 │ MT           │ Mato Grosso              │ REGIAO CENTRO OESTE      │\n",
       "│         54 │ DF           │ Distrito Federal         │ REGIAO CENTRO OESTE      │\n",
       "│         55 │ MS           │ Mato Grosso do Sul       │ REGIAO CENTRO OESTE      │\n",
       "│         93 │ EX           │ Exterior                 │ REGIAO NAO DECLARADA     │\n",
       "│         94 │ CB           │ Consumo de Bordo         │ CONSUMO DE BORDO         │\n",
       "│         96 │ MN           │ Mercadoria Nacionalizada │ MERCADORIA NACIONALIZADA │\n",
       "├────────────┴──────────────┴──────────────────────────┴──────────────────────────┤\n",
       "│ 34 rows (20 shown)                                                    4 columns │\n",
       "└─────────────────────────────────────────────────────────────────────────────────┘"
      ]
     },
     "execution_count": 8,
     "metadata": {},
     "output_type": "execute_result"
    }
   ],
   "source": [
    "con.sql(f\"\"\"\n",
    "        SELECT *\n",
    "FROM delta_scan('{path_minio_bronze}')\n",
    "        \"\"\")"
   ]
  },
  {
   "cell_type": "code",
   "execution_count": 14,
   "metadata": {},
   "outputs": [],
   "source": [
    "con.close()"
   ]
  }
 ],
 "metadata": {
  "kernelspec": {
   "display_name": "Python 3",
   "language": "python",
   "name": "python3"
  },
  "language_info": {
   "codemirror_mode": {
    "name": "ipython",
    "version": 3
   },
   "file_extension": ".py",
   "mimetype": "text/x-python",
   "name": "python",
   "nbconvert_exporter": "python",
   "pygments_lexer": "ipython3",
   "version": "3.12.2"
  }
 },
 "nbformat": 4,
 "nbformat_minor": 2
}
