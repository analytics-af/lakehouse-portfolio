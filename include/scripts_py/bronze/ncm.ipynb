{
 "cells": [
  {
   "cell_type": "code",
   "execution_count": 1,
   "metadata": {},
   "outputs": [],
   "source": [
    "import duckdb  # Importa o DuckDB para manipulação de dados e execução de SQL\n",
    "import os  # Importa o módulo os para interagir com variáveis de ambiente do sistema\n",
    "from dotenv import load_dotenv, find_dotenv  # Importa funções para carregar variáveis de ambiente de um arquivo .env\n",
    "from deltalake import DeltaTable, write_deltalake\n",
    "\n",
    "# Carrega as variáveis de ambiente definidas no arquivo .env\n",
    "load_dotenv(find_dotenv())\n",
    "\n",
    "# Define as credenciais de acesso ao MinIO a partir das variáveis de ambiente\n",
    "AWS_ACCESS_KEY = os.getenv(\"AWS_ACCESS_KEY_MINIO\")  # Chave de acesso do MinIO\n",
    "AWS_SECRET_KEY = os.getenv(\"AWS_SECRET_KEY_MINIO\")  # Chave secreta do MinIO\n",
    "HOST_MINIO = os.getenv(\"HOST_MINIO\")  # Host do MinIO\n",
    "\n",
    "# Conecta ao DuckDB, criando uma instância de conexão\n",
    "con = duckdb.connect()\n",
    "\n",
    "# Cria uma secret no DuckDB para acessar o MinIO com as credenciais fornecidas\n",
    "con.execute(f\"\"\"\n",
    "    CREATE SECRET my_minio_secret (\n",
    "        TYPE 'S3',\n",
    "        KEY_ID '{AWS_ACCESS_KEY}',\n",
    "        SECRET '{AWS_SECRET_KEY}',\n",
    "        REGION 'us-east-1',\n",
    "        ENDPOINT '{HOST_MINIO}:9000',\n",
    "        URL_STYLE 'path',\n",
    "        USE_SSL false\n",
    "    );\n",
    "\"\"\")\n",
    "\n",
    "# Define o caminho de destino no MinIO para os arquivos Parquet\n",
    "path_minio_landing = 's3://landing/comex'\n",
    "path_minio_bronze = 's3://bronze/comex/ncm'"
   ]
  },
  {
   "cell_type": "code",
   "execution_count": 3,
   "metadata": {},
   "outputs": [],
   "source": [
    "storage_options = {\n",
    "    \"AWS_ENDPOINT_URL\": f\"http://{HOST_MINIO}:9000\",\n",
    "    \"AWS_REGION\": \"us-east-1\",\n",
    "    \"AWS_ACCESS_KEY_ID\": AWS_ACCESS_KEY,\n",
    "    \"AWS_SECRET_ACCESS_KEY\": AWS_SECRET_KEY,\n",
    "    \"AWS_S3_ALLOW_UNSAFE_RENAME\": \"true\",\n",
    "    \"AWS_ALLOW_HTTP\": \"true\"\n",
    "}"
   ]
  },
  {
   "cell_type": "code",
   "execution_count": 4,
   "metadata": {},
   "outputs": [],
   "source": [
    "df = con.sql(f\"\"\"\n",
    "    SELECT \n",
    "        CO_NCM AS cod_ncm,\n",
    "        CO_UNID AS cod_unid,\n",
    "        CO_SH6 AS cod_sh6,\n",
    "        CO_PPE AS cod_ppe,\n",
    "        CO_PPI AS cod_ppi,\n",
    "        CO_FAT_AGREG AS cod_fat_agreg,\n",
    "        CO_CUCI_ITEM AS cod_cuci_item,\n",
    "        CO_CGCE_N3 AS cod_cgce_n3,\n",
    "        CO_SIIT AS cod_siit,\n",
    "        CO_ISIC_CLASSE AS cod_isic_classe,\n",
    "        CO_EXP_SUBSET AS cod_exp_subset,\n",
    "        NO_NCM_POR AS no_ncm_por\n",
    "    FROM '{path_minio_landing}/NCM.parquet';\n",
    "        \"\"\").to_arrow_table()"
   ]
  },
  {
   "cell_type": "code",
   "execution_count": 5,
   "metadata": {},
   "outputs": [
    {
     "data": {
      "text/html": [
       "<div>\n",
       "<style scoped>\n",
       "    .dataframe tbody tr th:only-of-type {\n",
       "        vertical-align: middle;\n",
       "    }\n",
       "\n",
       "    .dataframe tbody tr th {\n",
       "        vertical-align: top;\n",
       "    }\n",
       "\n",
       "    .dataframe thead th {\n",
       "        text-align: right;\n",
       "    }\n",
       "</style>\n",
       "<table border=\"1\" class=\"dataframe\">\n",
       "  <thead>\n",
       "    <tr style=\"text-align: right;\">\n",
       "      <th></th>\n",
       "      <th>cod_ncm</th>\n",
       "      <th>cod_unid</th>\n",
       "      <th>cod_sh6</th>\n",
       "      <th>cod_ppe</th>\n",
       "      <th>cod_ppi</th>\n",
       "      <th>cod_fat_agreg</th>\n",
       "      <th>cod_cuci_item</th>\n",
       "      <th>cod_cgce_n3</th>\n",
       "      <th>cod_siit</th>\n",
       "      <th>cod_isic_classe</th>\n",
       "      <th>cod_exp_subset</th>\n",
       "      <th>no_ncm_por</th>\n",
       "    </tr>\n",
       "  </thead>\n",
       "  <tbody>\n",
       "    <tr>\n",
       "      <th>0</th>\n",
       "      <td>60063130</td>\n",
       "      <td>10</td>\n",
       "      <td>600631</td>\n",
       "      <td>3853.0</td>\n",
       "      <td>3853.0</td>\n",
       "      <td>3.0</td>\n",
       "      <td>65529</td>\n",
       "      <td>240</td>\n",
       "      <td>4000.0</td>\n",
       "      <td>1391</td>\n",
       "      <td>1699.0</td>\n",
       "      <td>Outros tecidos de malha, de fibras sintéticas,...</td>\n",
       "    </tr>\n",
       "    <tr>\n",
       "      <th>1</th>\n",
       "      <td>60063190</td>\n",
       "      <td>10</td>\n",
       "      <td>600631</td>\n",
       "      <td>3853.0</td>\n",
       "      <td>3853.0</td>\n",
       "      <td>3.0</td>\n",
       "      <td>65529</td>\n",
       "      <td>240</td>\n",
       "      <td>4000.0</td>\n",
       "      <td>1391</td>\n",
       "      <td>1699.0</td>\n",
       "      <td>Outros tecidos de malha, de fibras sintéticas,...</td>\n",
       "    </tr>\n",
       "    <tr>\n",
       "      <th>2</th>\n",
       "      <td>60063200</td>\n",
       "      <td>10</td>\n",
       "      <td>600632</td>\n",
       "      <td>3853.0</td>\n",
       "      <td>3853.0</td>\n",
       "      <td>3.0</td>\n",
       "      <td>65529</td>\n",
       "      <td>240</td>\n",
       "      <td>4000.0</td>\n",
       "      <td>1391</td>\n",
       "      <td>1699.0</td>\n",
       "      <td>Outros tecidos de malha, de fibras sintéticas,...</td>\n",
       "    </tr>\n",
       "    <tr>\n",
       "      <th>3</th>\n",
       "      <td>60063210</td>\n",
       "      <td>10</td>\n",
       "      <td>600632</td>\n",
       "      <td>3853.0</td>\n",
       "      <td>3853.0</td>\n",
       "      <td>3.0</td>\n",
       "      <td>65529</td>\n",
       "      <td>240</td>\n",
       "      <td>4000.0</td>\n",
       "      <td>1391</td>\n",
       "      <td>1699.0</td>\n",
       "      <td>Outros tecidos de malha, de fibras sintéticas,...</td>\n",
       "    </tr>\n",
       "    <tr>\n",
       "      <th>4</th>\n",
       "      <td>60063220</td>\n",
       "      <td>10</td>\n",
       "      <td>600632</td>\n",
       "      <td>3853.0</td>\n",
       "      <td>3853.0</td>\n",
       "      <td>3.0</td>\n",
       "      <td>65529</td>\n",
       "      <td>240</td>\n",
       "      <td>4000.0</td>\n",
       "      <td>1391</td>\n",
       "      <td>1699.0</td>\n",
       "      <td>Outros tecidos de malha, de fibras sintéticas,...</td>\n",
       "    </tr>\n",
       "  </tbody>\n",
       "</table>\n",
       "</div>"
      ],
      "text/plain": [
       "    cod_ncm  cod_unid  cod_sh6  cod_ppe  cod_ppi  cod_fat_agreg cod_cuci_item  \\\n",
       "0  60063130        10   600631   3853.0   3853.0            3.0         65529   \n",
       "1  60063190        10   600631   3853.0   3853.0            3.0         65529   \n",
       "2  60063200        10   600632   3853.0   3853.0            3.0         65529   \n",
       "3  60063210        10   600632   3853.0   3853.0            3.0         65529   \n",
       "4  60063220        10   600632   3853.0   3853.0            3.0         65529   \n",
       "\n",
       "   cod_cgce_n3  cod_siit  cod_isic_classe  cod_exp_subset  \\\n",
       "0          240    4000.0             1391          1699.0   \n",
       "1          240    4000.0             1391          1699.0   \n",
       "2          240    4000.0             1391          1699.0   \n",
       "3          240    4000.0             1391          1699.0   \n",
       "4          240    4000.0             1391          1699.0   \n",
       "\n",
       "                                          no_ncm_por  \n",
       "0  Outros tecidos de malha, de fibras sintéticas,...  \n",
       "1  Outros tecidos de malha, de fibras sintéticas,...  \n",
       "2  Outros tecidos de malha, de fibras sintéticas,...  \n",
       "3  Outros tecidos de malha, de fibras sintéticas,...  \n",
       "4  Outros tecidos de malha, de fibras sintéticas,...  "
      ]
     },
     "execution_count": 5,
     "metadata": {},
     "output_type": "execute_result"
    }
   ],
   "source": [
    "df.to_pandas().head()"
   ]
  },
  {
   "cell_type": "code",
   "execution_count": 10,
   "metadata": {},
   "outputs": [],
   "source": [
    "write_deltalake(\n",
    "        f'{path_minio_bronze}',\n",
    "        df,\n",
    "        storage_options=storage_options\n",
    "    )"
   ]
  },
  {
   "cell_type": "code",
   "execution_count": 6,
   "metadata": {},
   "outputs": [],
   "source": [
    "table_path = f'{path_minio_bronze}'\n",
    "\n",
    "# Conecte à tabela Delta existente\n",
    "table = DeltaTable(table_path, storage_options=storage_options)"
   ]
  },
  {
   "cell_type": "code",
   "execution_count": 7,
   "metadata": {},
   "outputs": [
    {
     "data": {
      "text/plain": [
       "{'num_source_rows': 13699,\n",
       " 'num_target_rows_inserted': 11075,\n",
       " 'num_target_rows_updated': 0,\n",
       " 'num_target_rows_deleted': 0,\n",
       " 'num_target_rows_copied': 0,\n",
       " 'num_output_rows': 11075,\n",
       " 'num_target_files_added': 1,\n",
       " 'num_target_files_removed': 0,\n",
       " 'execution_time_ms': 249,\n",
       " 'scan_time_ms': 0,\n",
       " 'rewrite_time_ms': 177}"
      ]
     },
     "execution_count": 7,
     "metadata": {},
     "output_type": "execute_result"
    }
   ],
   "source": [
    "table.merge(\n",
    "    source=df,\n",
    "    predicate='target.cod_ncm = source.cod_ncm',\n",
    "    source_alias=\"source\",\n",
    "    target_alias=\"target\",\n",
    ").when_not_matched_insert_all().execute()"
   ]
  },
  {
   "cell_type": "code",
   "execution_count": 8,
   "metadata": {},
   "outputs": [
    {
     "data": {
      "text/plain": [
       "┌──────────┬──────────┬─────────┬─────────┬───┬──────────┬─────────────────┬────────────────┬──────────────────────┐\n",
       "│ cod_ncm  │ cod_unid │ cod_sh6 │ cod_ppe │ … │ cod_siit │ cod_isic_classe │ cod_exp_subset │      no_ncm_por      │\n",
       "│ varchar  │  int64   │ varchar │ varchar │   │ varchar  │     varchar     │    varchar     │       varchar        │\n",
       "├──────────┼──────────┼─────────┼─────────┼───┼──────────┼─────────────────┼────────────────┼──────────────────────┤\n",
       "│ 60063220 │       10 │ 600632  │ 3853.0  │ … │ 4000.0   │ 1391            │ 1699.0         │ Outros tecidos de …  │\n",
       "│ 60063230 │       10 │ 600632  │ 3853.0  │ … │ 4000.0   │ 1391            │ 1699.0         │ Outros tecidos de …  │\n",
       "│ 57023200 │       15 │ 570232  │ 3990.0  │ … │ 4000.0   │ 1393            │ 1699.0         │ Tapete, etc, de ma…  │\n",
       "│ 57025100 │       15 │ 570251  │ 3990.0  │ … │ 4000.0   │ 1393            │ 1699.0         │ Tapete, etc, de lã…  │\n",
       "│ 57025200 │       15 │ 570252  │ 3990.0  │ … │ 4000.0   │ 1393            │ 1699.0         │ Tapete, etc, de ou…  │\n",
       "│ 57025900 │       15 │ 570259  │ 3990.0  │ … │ 4000.0   │ 1393            │ 1699.0         │ Tapete, etc, de ou…  │\n",
       "│ 35069110 │       10 │ 350691  │ 3990.0  │ … │ 2000.0   │ 2029            │ 1499.0         │ Adesivos à base de…  │\n",
       "│ 35069120 │       10 │ 350691  │ 3990.0  │ … │ 2000.0   │ 2029            │ 1499.0         │ Adesivos à base de…  │\n",
       "│ 67021000 │       10 │ 670210  │ 3990.0  │ … │ 4000.0   │ 3290            │ 8099.0         │ Flores, folhagem e…  │\n",
       "│ 32100010 │       10 │ 321000  │ 3855.0  │ … │ 2000.0   │ 2022            │ 1403.0         │ Outras tintas, dos…  │\n",
       "│    ·     │        · │   ·     │   ·     │ · │   ·      │  ·              │   ·            │          ·           │\n",
       "│    ·     │        · │   ·     │   ·     │ · │   ·      │  ·              │   ·            │          ·           │\n",
       "│    ·     │        · │   ·     │   ·     │ · │   ·      │  ·              │   ·            │          ·           │\n",
       "│ 84621090 │       11 │ 846210  │ 3165.0  │ … │ 2000.0   │ 2822            │ 999.0          │ Outras máquinas (i…  │\n",
       "│ 83071000 │       10 │ 830710  │ 3866.0  │ … │ 3000.0   │ 2599            │ 8099.0         │ Tubos flexiveis de…  │\n",
       "│ 83071010 │       10 │ 830710  │ 3866.0  │ … │ 3000.0   │ 2599            │ 8099.0         │ Tubos flexíveis de…  │\n",
       "│ 83089090 │       10 │ 830890  │ 3990.0  │ … │ 3000.0   │ 2599            │ 8099.0         │ Outros fechos, etc…  │\n",
       "│ 84418000 │       11 │ 844180  │ 3136.0  │ … │ 2000.0   │ 2829            │ 908.0          │ Outras máquinas e …  │\n",
       "│ 74101113 │       10 │ 741011  │ 3046.0  │ … │ 3000.0   │ 2420            │ 1599.0         │ Outras folhas de c…  │\n",
       "│ 84219990 │       10 │ 842199  │ 3369.0  │ … │ 2000.0   │ 2819            │ 912.0          │ Partes de aparelho…  │\n",
       "│ 84219991 │       10 │ 842199  │ 3369.0  │ … │ 2000.0   │ 2819            │ 912.0          │ Cartuchos de membr…  │\n",
       "│ 84659290 │       11 │ 846592  │ 3990.0  │ … │ 2000.0   │ 2822            │ 999.0          │ Outras máquinas-fe…  │\n",
       "│ 85093000 │       11 │ 850930  │ 3365.0  │ … │ 2000.0   │ 2750            │ 1101.0         │ Triturador de rest…  │\n",
       "├──────────┴──────────┴─────────┴─────────┴───┴──────────┴─────────────────┴────────────────┴──────────────────────┤\n",
       "│ ? rows (>9999 rows, 20 shown)                                                               12 columns (8 shown) │\n",
       "└──────────────────────────────────────────────────────────────────────────────────────────────────────────────────┘"
      ]
     },
     "execution_count": 8,
     "metadata": {},
     "output_type": "execute_result"
    }
   ],
   "source": [
    "con.sql(f\"\"\"\n",
    "        SELECT *\n",
    "        FROM delta_scan('{path_minio_bronze}')\n",
    "        \"\"\")"
   ]
  },
  {
   "cell_type": "code",
   "execution_count": 9,
   "metadata": {},
   "outputs": [],
   "source": [
    "con.close()"
   ]
  }
 ],
 "metadata": {
  "kernelspec": {
   "display_name": "Python 3",
   "language": "python",
   "name": "python3"
  },
  "language_info": {
   "codemirror_mode": {
    "name": "ipython",
    "version": 3
   },
   "file_extension": ".py",
   "mimetype": "text/x-python",
   "name": "python",
   "nbconvert_exporter": "python",
   "pygments_lexer": "ipython3",
   "version": "3.12.2"
  }
 },
 "nbformat": 4,
 "nbformat_minor": 2
}
